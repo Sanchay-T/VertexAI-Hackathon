{
 "cells": [
  {
   "cell_type": "code",
   "execution_count": 1,
   "metadata": {},
   "outputs": [],
   "source": [
    "import os\n",
    "from dotenv import load_dotenv\n",
    "\n",
    "load_dotenv(\"../.env\")\n",
    "from langchain.chat_models import ChatOpenAI\n",
    "from langchain.experimental.plan_and_execute import PlanAndExecute, load_agent_executor, load_chat_planner\n",
    "from langchain.llms import OpenAI\n",
    "from langchain.agents.tools import Tool\n",
    "from langchain import LLMMathChain\n",
    "from langchain.prompts import PromptTemplate\n",
    "import json\n",
    "import requests\n",
    "from pydantic import BaseModel\n",
    "TWILIO_ACCOUNT_SID = os.getenv(\"TWILIO_ACCOUNT_SID\")\n",
    "TWILIO_AUTH_TOKEN = os.getenv(\"TWILIO_AUTH_TOKEN\")\n",
    "TWILIO_FROM_NUMBER = os.getenv(\"TWILIO_FROM_NUMBER\")\n",
    "\n",
    "api_key = os.getenv(\"OPENAI_API_KEY\")\n",
    "serper_api_key = os.getenv(\"SERP_API_KEY\")\n",
    "os.environ[\"LANGCHAIN_WANDB_TRACING\"] = \"true\"\n",
    "os.environ[\"WANDB_PROJECT\"] = \"Claude\"\n",
    "anthropic_api_key = os.getenv(\"ANTHROPIC_API_KEY\")"
   ]
  },
  {
   "cell_type": "code",
   "execution_count": null,
   "metadata": {},
   "outputs": [],
   "source": [
    "from lang"
   ]
  },
  {
   "cell_type": "code",
   "execution_count": 20,
   "metadata": {},
   "outputs": [],
   "source": [
    "from langchain.prompts import PromptTemplate, ChatPromptTemplate, HumanMessagePromptTemplate\n",
    "from langchain.llms import OpenAI\n",
    "from langchain.chat_models import ChatOpenAI\n",
    "from langchain.output_parsers import PydanticOutputParser\n",
    "from pydantic import BaseModel, Field, validator\n",
    "from typing import List, Optional\n",
    "from typing import Optional, Dict\n",
    "from pydantic import BaseModel, Field, validator\n",
    "\n",
    "\n",
    "\n",
    "class ContributionsByDay(BaseModel):\n",
    "    busiest_day: Optional[int] = Field(description=\"The busiest day of contributions\")\n",
    "    typical_days: Optional[int] = Field(description=\"Typical days of contributions\")\n",
    "    no_contributions: Optional[int] = Field(description=\"Days with no contributions\")\n",
    "\n",
    "class PinnedProjects(BaseModel):\n",
    "    total_pinned_projects: Optional[int] = Field(description=\"Total number of pinned projects\")\n",
    "    pinned_projects_names: Optional[List[str]] = Field(description=\"Names of pinned projects\")\n",
    "    popular_repositores : Optional[int] = Field(description=\"Total number of popular repositories\")\n",
    "    popular_repositores_names : Optional[List[str]] = Field(description=\"Names of popular repositories in the page\")\n",
    "    popular_repositores_names_programming_languages : Optional[List[str]] = Field(description=\"Names of popular repositories programming languages used  in the pag\")\n",
    "\n",
    "class RepositoriesCreated(BaseModel):\n",
    "    total: Optional[int] = Field(description=\"Total number of repositories created\")\n",
    "    last_3_months: Optional[int] = Field(description=\"Number of repositories created in the last 3 months\")\n",
    "    popular_languages: Optional[List[str]] = Field(description=\"List of popular languages used in the repositories\")\n",
    "\n",
    "class PullRequests(BaseModel):\n",
    "    opened_last_3_months: Optional[int] = Field(description=\"Number of pull requests opened in the last 3 months\")\n",
    "\n",
    "class Stars(BaseModel):\n",
    "    total: Optional[int] = Field(description=\"Total number of stars\")\n",
    "\n",
    "class Activity(BaseModel):\n",
    "    contributions_last_year: Optional[int] = Field(description=\"Number of contributions in the last year\")\n",
    "    contributions_by_day: Optional[ContributionsByDay] = Field(description=\"Contributions by day\")\n",
    "    repositories_created: Optional[RepositoriesCreated] = Field(description=\"Repositories created\")\n",
    "    pull_requests: Optional[PullRequests] = Field(description=\"Pull requests\")\n",
    "    stars: Optional[Stars] = Field(description=\"Stars\")\n",
    "\n",
    "class BasicInfo(BaseModel):\n",
    "    name: Optional[str] = Field(description=\"Name of the user\")\n",
    "    url: Optional[str] = Field(description=\"URL of the user's profile\")\n",
    "    description: Optional[str] = Field(description=\"Description of the user\")\n",
    "    location: Optional[str] = Field(description=\"Location of the user\")\n",
    "    company: Optional[str] = Field(description=\"Company of the user\")\n",
    "    followers: Optional[int] = Field(description=\"Number of followers\")\n",
    "    following: Optional[int] = Field(description=\"Number of users the user is following\")\n",
    "\n",
    "class GithubAgent(BaseModel):\n",
    "    basic_info: Optional[BasicInfo] = Field(description=\"Basic information about the user\")\n",
    "    activity: Optional[Activity] = Field(description=\"Activity of the user\")\n",
    "    pinned_projects: Optional[PinnedProjects] = Field(description=\"Repositores the user has pinned\")\n",
    "    contributions_by_day: Optional[ContributionsByDay] = Field(description=\"Contributions by day\")\n",
    "    repositories_created: Optional[RepositoriesCreated] = Field(description=\"Repositories created\")\n",
    "    pull_requests: Optional[PullRequests] = Field(description=\"Pull requests\")\n",
    "    stars: Optional[Stars] = Field(description=\"Stars\")\n",
    "    \n",
    "\n",
    "\n",
    "\n",
    "\n",
    "\n",
    "\n",
    "\n",
    "pydantic_parser = PydanticOutputParser(pydantic_object=GithubAgent)\n",
    "\n",
    "format_instructions = pydantic_parser.get_format_instructions()\n",
    "\n",
    "\n",
    "# And a query intented to prompt a language model to populate the data structure.\n",
    "model = ChatAnthropic(model=\"claude-2.0\", max_tokens_to_sample=3000,temperature=0)\n",
    "prompt = ChatPromptTemplate.from_template(template=template_string)\n",
    "messages = prompt.format_messages(docs = github_profile1,format_instructions=format_instructions)\n",
    "\n",
    "\n"
   ]
  },
  {
   "cell_type": "code",
   "execution_count": 21,
   "metadata": {},
   "outputs": [
    {
     "data": {
      "text/markdown": [
       "You are an expert Github Analyst and experiece in leading top projects and an awesome project manager.Your job is to analyse this github profile : Sanchay-T (Sanchay) · GitHub Skip to content Toggle navigation Sign up Product Actions Automate any workflow Packages Host and manage packages Security Find and fix vulnerabilities Codespaces Instant dev environments Copilot Write better code with AI Code review Manage code changes Issues Plan and track work Discussions Collaborate outside of code Explore All features Documentation GitHub Skills Blog Solutions For Enterprise Teams Startups Education By Solution CI/CD & Automation DevOps DevSecOps Resources Customer Stories White papers, Ebooks, Webinars Partners Open Source GitHub Sponsors Fund open source developers The ReadME Project GitHub community articles Repositories Topics Trending Collections Pricing Search or jump to... Search code, repositories, users, issues, pull requests... Search Clear Search syntax tips Provide feedback We read every piece of feedback, and take your input very seriously. Include my email address so I can be contacted Cancel Submit feedback Saved searches Use saved searches to filter your results more quickly Name Query To see all available qualifiers, see our documentation. Cancel Create saved search Sign in Sign up You signed in with another tab or window. Reload to refresh your session. You signed out in another tab or window. Reload to refresh your session. You switched accounts on another tab or window. Reload to refresh your session. Sanchay-T Follow Overview Repositories 38 Projects 0 Packages 0 Stars 46 More Overview Repositories Projects Packages Stars Sanchay-T Follow Sanchay Sanchay-T Follow 2 followers · 6 following Achievementsx2BetaSend feedbackAchievementsx2BetaSend feedback Highlights Pro Block or Report Block or report Sanchay-T Block user Prevent this user from interacting with your repositories and sending you notifications. Learn more about blocking users. You must be logged in to block users. Add an optional note: Note Please don't include any personal information such as legal names or email addresses. Maximum 100 characters, markdown supported. This note will be visible to only you. Block user Report abuse Contact GitHub support about this user’s behavior. Learn more about reporting abuse. Report abuse Overview Repositories 38 Projects 0 Packages 0 Stars 46 More Overview Repositories Projects Packages Stars Pinned E-commerce Public CSS Sales-Inventory-Management Public A java based project on Sales Inventory Management Java Cancer_Prediction Public HTML Facial-Recognition Public Python StockPrice_Prediction Public Jupyter Notebook 466 contributions in the last year Contribution Graph Day of Week July Jul August Aug September Sep October Oct November Nov December Dec January Jan February Feb March Mar April Apr May May June Jun July Jul Sunday Sun No contributions on Sunday, July 24, 2022 No contributions on Sunday, July 31, 2022 No contributions on Sunday, August 7, 2022 No contributions on Sunday, August 14, 2022 No contributions on Sunday, August 21, 2022 1 contribution on Sunday, August 28, 2022 No contributions on Sunday, September 4, 2022 No contributions on Sunday, September 11, 2022 No contributions on Sunday, September 18, 2022 No contributions on Sunday, September 25, 2022 No contributions on Sunday, October 2, 2022 No contributions on Sunday, October 9, 2022 No contributions on Sunday, October 16, 2022 No contributions on Sunday, October 23, 2022 1 contribution on Sunday, October 30, 2022 No contributions on Sunday, November 6, 2022 4 contributions on Sunday, November 13, 2022 No contributions on Sunday, November 20, 2022 No contributions on Sunday, November 27, 2022 12 contributions on Sunday, December 4, 2022 No contributions on Sunday, December 11, 2022 No contributions on Sunday, December 18, 2022 No contributions on Sunday, December 25, 2022 2 contributions on Sunday, January 1, 2023 No contributions on Sunday, January 8, 2023 No contributions on Sunday, January 15, 2023 No contributions on Sunday, January 22, 2023 No contributions on Sunday, January 29, 2023 No contributions on Sunday, February 5, 2023 No contributions on Sunday, February 12, 2023 No contributions on Sunday, February 19, 2023 No contributions on Sunday, February 26, 2023 No contributions on Sunday, March 5, 2023 9 contributions on Sunday, March 12, 2023 No contributions on Sunday, March 19, 2023 No contributions on Sunday, March 26, 2023 No contributions on Sunday, April 2, 2023 14 contributions on Sunday, April 9, 2023 No contributions on Sunday, April 16, 2023 No contributions on Sunday, April 23, 2023 1 contribution on Sunday, April 30, 2023 No contributions on Sunday, May 7, 2023 No contributions on Sunday, May 14, 2023 No contributions on Sunday, May 21, 2023 No contributions on Sunday, May 28, 2023 No contributions on Sunday, June 4, 2023 No contributions on Sunday, June 11, 2023 No contributions on Sunday, June 18, 2023 No contributions on Sunday, June 25, 2023 No contributions on Sunday, July 2, 2023 2 contributions on Sunday, July 9, 2023 No contributions on Sunday, July 16, 2023 1 contribution on Sunday, July 23, 2023 Monday Mon No contributions on Monday, July 25, 2022 No contributions on Monday, August 1, 2022 No contributions on Monday, August 8, 2022 No contributions on Monday, August 15, 2022 No contributions on Monday, August 22, 2022 1 contribution on Monday, August 29, 2022 No contributions on Monday, September 5, 2022 No contributions on Monday, September 12, 2022 No contributions on Monday, September 19, 2022 No contributions on Monday, September 26, 2022 No contributions on Monday, October 3, 2022 No contributions on Monday, October 10, 2022 No contributions on Monday, October 17, 2022 No contributions on Monday, October 24, 2022 No contributions on Monday, October 31, 2022 No contributions on Monday, November 7, 2022 No contributions on Monday, November 14, 2022 No contributions on Monday, November 21, 2022 No contributions on Monday, November 28, 2022 No contributions on Monday, December 5, 2022 No contributions on Monday, December 12, 2022 2 contributions on Monday, December 19, 2022 No contributions on Monday, December 26, 2022 7 contributions on Monday, January 2, 2023 No contributions on Monday, January 9, 2023 No contributions on Monday, January 16, 2023 No contributions on Monday, January 23, 2023 No contributions on Monday, January 30, 2023 No contributions on Monday, February 6, 2023 No contributions on Monday, February 13, 2023 No contributions on Monday, February 20, 2023 2 contributions on Monday, February 27, 2023 3 contributions on Monday, March 6, 2023 4 contributions on Monday, March 13, 2023 No contributions on Monday, March 20, 2023 No contributions on Monday, March 27, 2023 2 contributions on Monday, April 3, 2023 6 contributions on Monday, April 10, 2023 No contributions on Monday, April 17, 2023 8 contributions on Monday, April 24, 2023 1 contribution on Monday, May 1, 2023 No contributions on Monday, May 8, 2023 1 contribution on Monday, May 15, 2023 No contributions on Monday, May 22, 2023 No contributions on Monday, May 29, 2023 No contributions on Monday, June 5, 2023 No contributions on Monday, June 12, 2023 No contributions on Monday, June 19, 2023 No contributions on Monday, June 26, 2023 1 contribution on Monday, July 3, 2023 1 contribution on Monday, July 10, 2023 No contributions on Monday, July 17, 2023 Tuesday Tue No contributions on Tuesday, July 26, 2022 No contributions on Tuesday, August 2, 2022 No contributions on Tuesday, August 9, 2022 No contributions on Tuesday, August 16, 2022 No contributions on Tuesday, August 23, 2022 No contributions on Tuesday, August 30, 2022 No contributions on Tuesday, September 6, 2022 No contributions on Tuesday, September 13, 2022 No contributions on Tuesday, September 20, 2022 No contributions on Tuesday, September 27, 2022 No contributions on Tuesday, October 4, 2022 No contributions on Tuesday, October 11, 2022 No contributions on Tuesday, October 18, 2022 No contributions on Tuesday, October 25, 2022 No contributions on Tuesday, November 1, 2022 No contributions on Tuesday, November 8, 2022 1 contribution on Tuesday, November 15, 2022 No contributions on Tuesday, November 22, 2022 No contributions on Tuesday, November 29, 2022 1 contribution on Tuesday, December 6, 2022 2 contributions on Tuesday, December 13, 2022 6 contributions on Tuesday, December 20, 2022 No contributions on Tuesday, December 27, 2022 7 contributions on Tuesday, January 3, 2023 No contributions on Tuesday, January 10, 2023 No contributions on Tuesday, January 17, 2023 1 contribution on Tuesday, January 24, 2023 1 contribution on Tuesday, January 31, 2023 No contributions on Tuesday, February 7, 2023 1 contribution on Tuesday, February 14, 2023 No contributions on Tuesday, February 21, 2023 3 contributions on Tuesday, February 28, 2023 2 contributions on Tuesday, March 7, 2023 1 contribution on Tuesday, March 14, 2023 No contributions on Tuesday, March 21, 2023 No contributions on Tuesday, March 28, 2023 No contributions on Tuesday, April 4, 2023 No contributions on Tuesday, April 11, 2023 No contributions on Tuesday, April 18, 2023 7 contributions on Tuesday, April 25, 2023 No contributions on Tuesday, May 2, 2023 No contributions on Tuesday, May 9, 2023 1 contribution on Tuesday, May 16, 2023 No contributions on Tuesday, May 23, 2023 No contributions on Tuesday, May 30, 2023 No contributions on Tuesday, June 6, 2023 No contributions on Tuesday, June 13, 2023 No contributions on Tuesday, June 20, 2023 1 contribution on Tuesday, June 27, 2023 No contributions on Tuesday, July 4, 2023 No contributions on Tuesday, July 11, 2023 No contributions on Tuesday, July 18, 2023 Wednesday Wed No contributions on Wednesday, July 27, 2022 No contributions on Wednesday, August 3, 2022 No contributions on Wednesday, August 10, 2022 No contributions on Wednesday, August 17, 2022 No contributions on Wednesday, August 24, 2022 No contributions on Wednesday, August 31, 2022 No contributions on Wednesday, September 7, 2022 No contributions on Wednesday, September 14, 2022 No contributions on Wednesday, September 21, 2022 No contributions on Wednesday, September 28, 2022 No contributions on Wednesday, October 5, 2022 No contributions on Wednesday, October 12, 2022 No contributions on Wednesday, October 19, 2022 No contributions on Wednesday, October 26, 2022 No contributions on Wednesday, November 2, 2022 No contributions on Wednesday, November 9, 2022 No contributions on Wednesday, November 16, 2022 No contributions on Wednesday, November 23, 2022 No contributions on Wednesday, November 30, 2022 No contributions on Wednesday, December 7, 2022 21 contributions on Wednesday, December 14, 2022 12 contributions on Wednesday, December 21, 2022 6 contributions on Wednesday, December 28, 2022 No contributions on Wednesday, January 4, 2023 No contributions on Wednesday, January 11, 2023 No contributions on Wednesday, January 18, 2023 No contributions on Wednesday, January 25, 2023 No contributions on Wednesday, February 1, 2023 1 contribution on Wednesday, February 8, 2023 3 contributions on Wednesday, February 15, 2023 2 contributions on Wednesday, February 22, 2023 No contributions on Wednesday, March 1, 2023 No contributions on Wednesday, March 8, 2023 No contributions on Wednesday, March 15, 2023 No contributions on Wednesday, March 22, 2023 No contributions on Wednesday, March 29, 2023 No contributions on Wednesday, April 5, 2023 2 contributions on Wednesday, April 12, 2023 No contributions on Wednesday, April 19, 2023 No contributions on Wednesday, April 26, 2023 No contributions on Wednesday, May 3, 2023 No contributions on Wednesday, May 10, 2023 1 contribution on Wednesday, May 17, 2023 1 contribution on Wednesday, May 24, 2023 No contributions on Wednesday, May 31, 2023 No contributions on Wednesday, June 7, 2023 No contributions on Wednesday, June 14, 2023 No contributions on Wednesday, June 21, 2023 No contributions on Wednesday, June 28, 2023 No contributions on Wednesday, July 5, 2023 No contributions on Wednesday, July 12, 2023 No contributions on Wednesday, July 19, 2023 Thursday Thu No contributions on Thursday, July 28, 2022 No contributions on Thursday, August 4, 2022 No contributions on Thursday, August 11, 2022 No contributions on Thursday, August 18, 2022 No contributions on Thursday, August 25, 2022 No contributions on Thursday, September 1, 2022 No contributions on Thursday, September 8, 2022 No contributions on Thursday, September 15, 2022 No contributions on Thursday, September 22, 2022 No contributions on Thursday, September 29, 2022 1 contribution on Thursday, October 6, 2022 1 contribution on Thursday, October 13, 2022 No contributions on Thursday, October 20, 2022 No contributions on Thursday, October 27, 2022 No contributions on Thursday, November 3, 2022 3 contributions on Thursday, November 10, 2022 6 contributions on Thursday, November 17, 2022 No contributions on Thursday, November 24, 2022 No contributions on Thursday, December 1, 2022 No contributions on Thursday, December 8, 2022 2 contributions on Thursday, December 15, 2022 6 contributions on Thursday, December 22, 2022 5 contributions on Thursday, December 29, 2022 6 contributions on Thursday, January 5, 2023 No contributions on Thursday, January 12, 2023 2 contributions on Thursday, January 19, 2023 No contributions on Thursday, January 26, 2023 4 contributions on Thursday, February 2, 2023 1 contribution on Thursday, February 9, 2023 3 contributions on Thursday, February 16, 2023 No contributions on Thursday, February 23, 2023 No contributions on Thursday, March 2, 2023 1 contribution on Thursday, March 9, 2023 No contributions on Thursday, March 16, 2023 No contributions on Thursday, March 23, 2023 No contributions on Thursday, March 30, 2023 No contributions on Thursday, April 6, 2023 No contributions on Thursday, April 13, 2023 No contributions on Thursday, April 20, 2023 No contributions on Thursday, April 27, 2023 No contributions on Thursday, May 4, 2023 No contributions on Thursday, May 11, 2023 No contributions on Thursday, May 18, 2023 No contributions on Thursday, May 25, 2023 No contributions on Thursday, June 1, 2023 No contributions on Thursday, June 8, 2023 3 contributions on Thursday, June 15, 2023 No contributions on Thursday, June 22, 2023 No contributions on Thursday, June 29, 2023 2 contributions on Thursday, July 6, 2023 No contributions on Thursday, July 13, 2023 3 contributions on Thursday, July 20, 2023 Friday Fri No contributions on Friday, July 29, 2022 No contributions on Friday, August 5, 2022 No contributions on Friday, August 12, 2022 No contributions on Friday, August 19, 2022 No contributions on Friday, August 26, 2022 No contributions on Friday, September 2, 2022 No contributions on Friday, September 9, 2022 No contributions on Friday, September 16, 2022 No contributions on Friday, September 23, 2022 No contributions on Friday, September 30, 2022 14 contributions on Friday, October 7, 2022 2 contributions on Friday, October 14, 2022 No contributions on Friday, October 21, 2022 No contributions on Friday, October 28, 2022 No contributions on Friday, November 4, 2022 7 contributions on Friday, November 11, 2022 18 contributions on Friday, November 18, 2022 No contributions on Friday, November 25, 2022 No contributions on Friday, December 2, 2022 No contributions on Friday, December 9, 2022 6 contributions on Friday, December 16, 2022 No contributions on Friday, December 23, 2022 9 contributions on Friday, December 30, 2022 2 contributions on Friday, January 6, 2023 No contributions on Friday, January 13, 2023 No contributions on Friday, January 20, 2023 1 contribution on Friday, January 27, 2023 No contributions on Friday, February 3, 2023 No contributions on Friday, February 10, 2023 No contributions on Friday, February 17, 2023 2 contributions on Friday, February 24, 2023 No contributions on Friday, March 3, 2023 No contributions on Friday, March 10, 2023 No contributions on Friday, March 17, 2023 14 contributions on Friday, March 24, 2023 1 contribution on Friday, March 31, 2023 18 contributions on Friday, April 7, 2023 6 contributions on Friday, April 14, 2023 No contributions on Friday, April 21, 2023 No contributions on Friday, April 28, 2023 No contributions on Friday, May 5, 2023 No contributions on Friday, May 12, 2023 2 contributions on Friday, May 19, 2023 No contributions on Friday, May 26, 2023 No contributions on Friday, June 2, 2023 No contributions on Friday, June 9, 2023 No contributions on Friday, June 16, 2023 No contributions on Friday, June 23, 2023 No contributions on Friday, June 30, 2023 No contributions on Friday, July 7, 2023 1 contribution on Friday, July 14, 2023 No contributions on Friday, July 21, 2023 Saturday Sat No contributions on Saturday, July 30, 2022 No contributions on Saturday, August 6, 2022 No contributions on Saturday, August 13, 2022 No contributions on Saturday, August 20, 2022 No contributions on Saturday, August 27, 2022 No contributions on Saturday, September 3, 2022 No contributions on Saturday, September 10, 2022 No contributions on Saturday, September 17, 2022 No contributions on Saturday, September 24, 2022 3 contributions on Saturday, October 1, 2022 No contributions on Saturday, October 8, 2022 No contributions on Saturday, October 15, 2022 No contributions on Saturday, October 22, 2022 No contributions on Saturday, October 29, 2022 No contributions on Saturday, November 5, 2022 87 contributions on Saturday, November 12, 2022 No contributions on Saturday, November 19, 2022 No contributions on Saturday, November 26, 2022 No contributions on Saturday, December 3, 2022 No contributions on Saturday, December 10, 2022 No contributions on Saturday, December 17, 2022 No contributions on Saturday, December 24, 2022 7 contributions on Saturday, December 31, 2022 3 contributions on Saturday, January 7, 2023 2 contributions on Saturday, January 14, 2023 No contributions on Saturday, January 21, 2023 1 contribution on Saturday, January 28, 2023 3 contributions on Saturday, February 4, 2023 1 contribution on Saturday, February 11, 2023 No contributions on Saturday, February 18, 2023 No contributions on Saturday, February 25, 2023 No contributions on Saturday, March 4, 2023 1 contribution on Saturday, March 11, 2023 5 contributions on Saturday, March 18, 2023 No contributions on Saturday, March 25, 2023 No contributions on Saturday, April 1, 2023 10 contributions on Saturday, April 8, 2023 3 contributions on Saturday, April 15, 2023 No contributions on Saturday, April 22, 2023 2 contributions on Saturday, April 29, 2023 No contributions on Saturday, May 6, 2023 2 contributions on Saturday, May 13, 2023 No contributions on Saturday, May 20, 2023 No contributions on Saturday, May 27, 2023 No contributions on Saturday, June 3, 2023 No contributions on Saturday, June 10, 2023 No contributions on Saturday, June 17, 2023 No contributions on Saturday, June 24, 2023 No contributions on Saturday, July 1, 2023 3 contributions on Saturday, July 8, 2023 No contributions on Saturday, July 15, 2023 No contributions on Saturday, July 22, 2023 User activity over one year of time. Each column is one week, with older weeks to the left. Select a day to filter the \"contribution activity\" section. Learn how we count contributions Less More 2023 2022 2021 2020 Contribution activity July 2023 Created 9 commits in 3 repositories Sanchay-T/VertexAI-Hackathon 5 commits Sanchay-T/Research-Agent 2 commits Sanchay-T/FINDADDY 2 commits Created 3 repositories Sanchay-T/Research-Agent Python Jul 20 Sanchay-T/botpress TypeScript Jul 14 Sanchay-T/VertexAI-Hackathon CSS • Built by Jul 8 Opened 1 pull request in 1 repository Sanchay-T/FINDADDY 1 merged Sql Jul 3 1 contribution in private repositories Jul 8 Show more activity Seeing something unexpected? Take a look at the GitHub profile guide. Footer © 2023 GitHub, Inc. Footer navigation Terms Privacy Security Status Docs Contact GitHub Pricing API Training Blog About You can’t perform that action at this time. and extract key contents in json The output should be formatted as a JSON instance that conforms to the JSON schema below.\n",
       "\n",
       "As an example, for the schema {\"properties\": {\"foo\": {\"title\": \"Foo\", \"description\": \"a list of strings\", \"type\": \"array\", \"items\": {\"type\": \"string\"}}}, \"required\": [\"foo\"]}}\n",
       "the object {\"foo\": [\"bar\", \"baz\"]} is a well-formatted instance of the schema. The object {\"properties\": {\"foo\": [\"bar\", \"baz\"]}} is not well-formatted.\n",
       "\n",
       "Here is the output schema:\n",
       "```\n",
       "{\"properties\": {\"basic_info\": {\"title\": \"Basic Info\", \"description\": \"Basic information about the user\", \"allOf\": [{\"$ref\": \"#/definitions/BasicInfo\"}]}, \"activity\": {\"title\": \"Activity\", \"description\": \"Activity of the user\", \"allOf\": [{\"$ref\": \"#/definitions/Activity\"}]}, \"pinned_projects\": {\"title\": \"Pinned Projects\", \"description\": \"Repositores the user has pinned\", \"allOf\": [{\"$ref\": \"#/definitions/PinnedProjects\"}]}, \"contributions_by_day\": {\"title\": \"Contributions By Day\", \"description\": \"Contributions by day\", \"allOf\": [{\"$ref\": \"#/definitions/ContributionsByDay\"}]}, \"repositories_created\": {\"title\": \"Repositories Created\", \"description\": \"Repositories created\", \"allOf\": [{\"$ref\": \"#/definitions/RepositoriesCreated\"}]}, \"pull_requests\": {\"title\": \"Pull Requests\", \"description\": \"Pull requests\", \"allOf\": [{\"$ref\": \"#/definitions/PullRequests\"}]}, \"stars\": {\"title\": \"Stars\", \"description\": \"Stars\", \"allOf\": [{\"$ref\": \"#/definitions/Stars\"}]}}, \"definitions\": {\"BasicInfo\": {\"title\": \"BasicInfo\", \"type\": \"object\", \"properties\": {\"name\": {\"title\": \"Name\", \"description\": \"Name of the user\", \"type\": \"string\"}, \"url\": {\"title\": \"Url\", \"description\": \"URL of the user's profile\", \"type\": \"string\"}, \"description\": {\"title\": \"Description\", \"description\": \"Description of the user\", \"type\": \"string\"}, \"location\": {\"title\": \"Location\", \"description\": \"Location of the user\", \"type\": \"string\"}, \"company\": {\"title\": \"Company\", \"description\": \"Company of the user\", \"type\": \"string\"}, \"followers\": {\"title\": \"Followers\", \"description\": \"Number of followers\", \"type\": \"integer\"}, \"following\": {\"title\": \"Following\", \"description\": \"Number of users the user is following\", \"type\": \"integer\"}}}, \"ContributionsByDay\": {\"title\": \"ContributionsByDay\", \"type\": \"object\", \"properties\": {\"busiest_day\": {\"title\": \"Busiest Day\", \"description\": \"The busiest day of contributions\", \"type\": \"integer\"}, \"typical_days\": {\"title\": \"Typical Days\", \"description\": \"Typical days of contributions\", \"type\": \"integer\"}, \"no_contributions\": {\"title\": \"No Contributions\", \"description\": \"Days with no contributions\", \"type\": \"integer\"}}}, \"RepositoriesCreated\": {\"title\": \"RepositoriesCreated\", \"type\": \"object\", \"properties\": {\"total\": {\"title\": \"Total\", \"description\": \"Total number of repositories created\", \"type\": \"integer\"}, \"last_3_months\": {\"title\": \"Last 3 Months\", \"description\": \"Number of repositories created in the last 3 months\", \"type\": \"integer\"}, \"popular_languages\": {\"title\": \"Popular Languages\", \"description\": \"List of popular languages used in the repositories\", \"type\": \"array\", \"items\": {\"type\": \"string\"}}}}, \"PullRequests\": {\"title\": \"PullRequests\", \"type\": \"object\", \"properties\": {\"opened_last_3_months\": {\"title\": \"Opened Last 3 Months\", \"description\": \"Number of pull requests opened in the last 3 months\", \"type\": \"integer\"}}}, \"Stars\": {\"title\": \"Stars\", \"type\": \"object\", \"properties\": {\"total\": {\"title\": \"Total\", \"description\": \"Total number of stars\", \"type\": \"integer\"}}}, \"Activity\": {\"title\": \"Activity\", \"type\": \"object\", \"properties\": {\"contributions_last_year\": {\"title\": \"Contributions Last Year\", \"description\": \"Number of contributions in the last year\", \"type\": \"integer\"}, \"contributions_by_day\": {\"title\": \"Contributions By Day\", \"description\": \"Contributions by day\", \"allOf\": [{\"$ref\": \"#/definitions/ContributionsByDay\"}]}, \"repositories_created\": {\"title\": \"Repositories Created\", \"description\": \"Repositories created\", \"allOf\": [{\"$ref\": \"#/definitions/RepositoriesCreated\"}]}, \"pull_requests\": {\"title\": \"Pull Requests\", \"description\": \"Pull requests\", \"allOf\": [{\"$ref\": \"#/definitions/PullRequests\"}]}, \"stars\": {\"title\": \"Stars\", \"description\": \"Stars\", \"allOf\": [{\"$ref\": \"#/definitions/Stars\"}]}}}, \"PinnedProjects\": {\"title\": \"PinnedProjects\", \"type\": \"object\", \"properties\": {\"total_pinned_projects\": {\"title\": \"Total Pinned Projects\", \"description\": \"Total number of pinned projects\", \"type\": \"integer\"}, \"pinned_projects_names\": {\"title\": \"Pinned Projects Names\", \"description\": \"Names of pinned projects\", \"type\": \"array\", \"items\": {\"type\": \"string\"}}, \"popular_repositores\": {\"title\": \"Popular Repositores\", \"description\": \"Total number of popular repositories\", \"type\": \"integer\"}, \"popular_repositores_names\": {\"title\": \"Popular Repositores Names\", \"description\": \"Names of popular repositories in the page\", \"type\": \"array\", \"items\": {\"type\": \"string\"}}, \"popular_repositores_names_programming_languages\": {\"title\": \"Popular Repositores Names Programming Languages\", \"description\": \"Names of popular repositories programming languages used  in the pag\", \"type\": \"array\", \"items\": {\"type\": \"string\"}}}}}}\n",
       "``` \n",
       " Make sure your responce is complete in proper json. \n",
       " If you cannot find the information needed for the output schema add None.\n"
      ],
      "text/plain": [
       "<IPython.core.display.Markdown object>"
      ]
     },
     "execution_count": 21,
     "metadata": {},
     "output_type": "execute_result"
    }
   ],
   "source": [
    "from IPython.display import Markdown\n",
    "\n",
    "Markdown(messages[0].content)"
   ]
  },
  {
   "cell_type": "code",
   "execution_count": 22,
   "metadata": {},
   "outputs": [
    {
     "name": "stdout",
     "output_type": "stream",
     "text": [
      "True\n"
     ]
    }
   ],
   "source": [
    "if 'pinned' in messages[0].content:\n",
    "    print(True)"
   ]
  },
  {
   "cell_type": "code",
   "execution_count": 23,
   "metadata": {},
   "outputs": [],
   "source": [
    "output = model(messages)"
   ]
  },
  {
   "cell_type": "code",
   "execution_count": 10,
   "metadata": {},
   "outputs": [
    {
     "name": "stdout",
     "output_type": "stream",
     "text": [
      "1451\n"
     ]
    },
    {
     "data": {
      "text/markdown": [
       " Here is the JSON output conforming to the schema:\n",
       "\n",
       "```json\n",
       "{\n",
       "  \"basic_info\": {\n",
       "    \"name\": \"Sanchay\",\n",
       "    \"url\": \"https://github.com/Sanchay-T\",\n",
       "    \"description\": null,\n",
       "    \"location\": null,\n",
       "    \"company\": null,\n",
       "    \"followers\": 2,\n",
       "    \"following\": 6\n",
       "  },\n",
       "  \"activity\": {\n",
       "    \"contributions_last_year\": 466,\n",
       "    \"contributions_by_day\": {\n",
       "      \"busiest_day\": \"Saturday, November 12, 2022\",\n",
       "      \"typical_days\": [\"Wednesday\", \"Friday\"],\n",
       "      \"no_contributions\": [\"July 2022\", \"August 2022\", \"September 2022\"]  \n",
       "    },\n",
       "    \"repositories_created\": {\n",
       "      \"total\": 38,\n",
       "      \"last_3_months\": 15,\n",
       "      \"popular_languages\": [\"Python\", \"Java\", \"CSS\"]\n",
       "    },\n",
       "    \"pull_requests\": {\n",
       "      \"opened_last_3_months\": 1\n",
       "    },\n",
       "    \"stars\": {\n",
       "      \"total\": 46\n",
       "    }\n",
       "  },\n",
       "  \"pinned_projects\": {\n",
       "    \"total_pinned_projects\": 2,\n",
       "    \"pinned_projects_names\": [\"E-commerce\", \"Sales-Inventory-Management\"],\n",
       "    \"popular_repositores\": null,\n",
       "    \"popular_repositores_names\": null,\n",
       "    \"popular_repositores_names_programming_languages\": null\n",
       "  },\n",
       "  \"contributions_by_day\": {\n",
       "    \"busiest_day\": \"Saturday, November 12, 2022\",  \n",
       "    \"typical_days\": [\"Wednesday\", \"Friday\"],\n",
       "    \"no_contributions\": [\"July 2022\", \"August 2022\", \"September 2022\"]\n",
       "  },\n",
       "  \"repositories_created\": {\n",
       "    \"total\": 38,\n",
       "    \"last_3_months\": 15,\n",
       "    \"popular_languages\": [\"Python\", \"Java\", \"CSS\"]\n",
       "  },\n",
       "  \"pull_requests\": {\n",
       "    \"opened_last_3_months\": 1\n",
       "  },\n",
       "  \"stars\": {\n",
       "    \"total\": 46\n",
       "  }\n",
       "}\n",
       "```"
      ],
      "text/plain": [
       "<IPython.core.display.Markdown object>"
      ]
     },
     "execution_count": 10,
     "metadata": {},
     "output_type": "execute_result"
    }
   ],
   "source": [
    "print(len(output.content))\n",
    "Markdown(output.content)"
   ]
  },
  {
   "cell_type": "code",
   "execution_count": 25,
   "metadata": {},
   "outputs": [
    {
     "data": {
      "text/plain": [
       "BasicInfo(name='Sanchay', url='https://github.com/Sanchay-T', description=None, location=None, company=None, followers=2, following=6)"
      ]
     },
     "execution_count": 25,
     "metadata": {},
     "output_type": "execute_result"
    }
   ],
   "source": [
    "\n",
    "JSon = pydantic_parser.parse(output.content)\n",
    "JSon.basic_info\n"
   ]
  },
  {
   "cell_type": "code",
   "execution_count": 28,
   "metadata": {},
   "outputs": [],
   "source": [
    "from twilio.rest import Client\n",
    "\n",
    "def twilio(body):\n",
    "    account_sid = 'AC892f3e7e653e2b4b8f5d03d916c036b5'\n",
    "    auth_token = '6e8ca23b01873d18e1ba3c896fefa531'\n",
    "    client = Client(account_sid, auth_token)\n",
    "\n",
    "    message = client.messages.create(\n",
    "    from_='whatsapp:+14155238886',\n",
    "        body=body,\n",
    "        # to='whatsapp:+919167989179'\n",
    "        to = 'whatsapp:+919136820958'\n",
    "    )\n",
    "\n",
    "    return message.sid"
   ]
  },
  {
   "cell_type": "code",
   "execution_count": 29,
   "metadata": {},
   "outputs": [
    {
     "data": {
      "text/plain": [
       "'SM03daf818b36e42b10114f71164e8611d'"
      ]
     },
     "execution_count": 29,
     "metadata": {},
     "output_type": "execute_result"
    }
   ],
   "source": [
    "twilio(output.content)"
   ]
  },
  {
   "cell_type": "code",
   "execution_count": null,
   "metadata": {},
   "outputs": [],
   "source": []
  }
 ],
 "metadata": {
  "kernelspec": {
   "display_name": "env",
   "language": "python",
   "name": "python3"
  },
  "language_info": {
   "codemirror_mode": {
    "name": "ipython",
    "version": 3
   },
   "file_extension": ".py",
   "mimetype": "text/x-python",
   "name": "python",
   "nbconvert_exporter": "python",
   "pygments_lexer": "ipython3",
   "version": "3.11.2"
  },
  "orig_nbformat": 4
 },
 "nbformat": 4,
 "nbformat_minor": 2
}

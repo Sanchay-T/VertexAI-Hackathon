{
 "cells": [
  {
   "cell_type": "code",
   "execution_count": 1,
   "metadata": {},
   "outputs": [],
   "source": [
    "import os\n",
    "from dotenv import load_dotenv\n",
    "\n",
    "load_dotenv(\"../.env\")\n",
    "from langchain.chat_models import ChatOpenAI\n",
    "from langchain.experimental.plan_and_execute import PlanAndExecute, load_agent_executor, load_chat_planner\n",
    "from langchain.llms import OpenAI\n",
    "from langchain.agents.tools import Tool\n",
    "from langchain import LLMMathChain\n",
    "from langchain.prompts import PromptTemplate\n",
    "from langchain.chat_models import ChatOpenAI\n",
    "from langchain.chains import create_extraction_chain, create_extraction_chain_pydantic\n",
    "from langchain.prompts import ChatPromptTemplate\n",
    "from dotenv import load_dotenv\n",
    "import os\n",
    "from githubanalyzer import GithubProfileAnalyzer\n",
    "import json\n",
    "import requests\n",
    "\n",
    "api_key = os.getenv(\"OPENAI_API_KEY\")\n",
    "serper_api_key = os.getenv(\"SERP_API_KEY\")"
   ]
  },
  {
   "cell_type": "code",
   "execution_count": 2,
   "metadata": {},
   "outputs": [],
   "source": [
    "def extract_resume_information(pdf_path):\n",
    "    # Load PDF\n",
    "    loader = PyPDFLoader(pdf_path)\n",
    "    final = loader.load()\n",
    "    resume = final[0].page_content\n",
    "    llm = ChatOpenAI(temperature=0.0)\n",
    "\n",
    "    pydantic_parser = PydanticOutputParser(pydantic_object=Applicant)\n",
    "    format_instructions = pydantic_parser.get_format_instructions()\n",
    "\n",
    "    template_string = \"\"\" You are a professional HR that and information extractor that can analyze the resume of the person and extract the contents as given in the instructions below\n",
    "    Resume: ```{resume}```\n",
    "    {format_instructions}\n",
    "    \"\"\"\n",
    "    prompt = ChatPromptTemplate.from_template(template=template_string)\n",
    "    messages = prompt.format_messages(resume=resume, format_instructions=format_instructions)\n",
    "\n",
    "    output = llm(messages)\n",
    "\n",
    "    return pydantic_parser.parse(output.content)"
   ]
  },
  {
   "cell_type": "code",
   "execution_count": 3,
   "metadata": {},
   "outputs": [
    {
     "ename": "NameError",
     "evalue": "name 'PyPDFLoader' is not defined",
     "output_type": "error",
     "traceback": [
      "\u001b[1;31m---------------------------------------------------------------------------\u001b[0m",
      "\u001b[1;31mNameError\u001b[0m                                 Traceback (most recent call last)",
      "Cell \u001b[1;32mIn[3], line 1\u001b[0m\n\u001b[1;32m----> 1\u001b[0m extract_resume_information(\u001b[39m'\u001b[39;49m\u001b[39mnew_pdf\u001b[39;49m\u001b[39m\\\u001b[39;49m\u001b[39mPoojan_vig resume.pdf\u001b[39;49m\u001b[39m'\u001b[39;49m)\n",
      "Cell \u001b[1;32mIn[2], line 3\u001b[0m, in \u001b[0;36mextract_resume_information\u001b[1;34m(pdf_path)\u001b[0m\n\u001b[0;32m      1\u001b[0m \u001b[39mdef\u001b[39;00m \u001b[39mextract_resume_information\u001b[39m(pdf_path):\n\u001b[0;32m      2\u001b[0m     \u001b[39m# Load PDF\u001b[39;00m\n\u001b[1;32m----> 3\u001b[0m     loader \u001b[39m=\u001b[39m PyPDFLoader(pdf_path)\n\u001b[0;32m      4\u001b[0m     final \u001b[39m=\u001b[39m loader\u001b[39m.\u001b[39mload()\n\u001b[0;32m      5\u001b[0m     resume \u001b[39m=\u001b[39m final[\u001b[39m0\u001b[39m]\u001b[39m.\u001b[39mpage_content\n",
      "\u001b[1;31mNameError\u001b[0m: name 'PyPDFLoader' is not defined"
     ]
    }
   ],
   "source": [
    "extract_resume_information('new_pdf\\Poojan_vig resume.pdf')"
   ]
  },
  {
   "cell_type": "code",
   "execution_count": null,
   "metadata": {},
   "outputs": [],
   "source": [
    "def analyze_github_profile(profile_url):\n",
    "    load_dotenv(\".env\")\n",
    "    os.environ[\"LANGCHAIN_WANDB_TRACING\"] = \"true\"\n",
    "    os.environ[\"WANDB_PROJECT\"] = \"Claude\"\n",
    "    anthropic_api_key = os.getenv(\"ANTHROPIC_API_KEY\")\n",
    "    serper_api_key = os.getenv(\"SERP_API_KEY\")\n",
    "\n",
    "    analyzer = GithubProfileAnalyzer(anthropic_api_key=anthropic_api_key, serper_api_key=serper_api_key)\n",
    "    return analyzer.analyze(profile_url)\n"
   ]
  },
  {
   "cell_type": "code",
   "execution_count": null,
   "metadata": {},
   "outputs": [],
   "source": [
    "resume_tool = Tool(\n",
    "    name=\"Resume Extraction\",\n",
    "    func=extract_resume_information,\n",
    "    description=\"Useful for extracting information from a resume. The function takes a path to a PDF file as input.\"\n",
    ")\n",
    "\n",
    "# Define the tool for analyzing a GitHub profile\n",
    "github_tool = Tool(\n",
    "    name=\"GitHub Profile Analysis\",\n",
    "    func=analyze_github_profile,\n",
    "    description=\"Useful for analyzing a GitHub profile. The function takes a GitHub profile URL as input.\"\n",
    ")\n",
    "\n",
    "tools = [resume_tool, github_tool]"
   ]
  },
  {
   "cell_type": "code",
   "execution_count": null,
   "metadata": {},
   "outputs": [],
   "source": [
    "system_message=SystemMessage(\n",
    "    content=\"\"\"You are a world class HR, who hires people based on their talent and skills; \n",
    "            you do not make things up, you will try as hard as possible to learn facts, data and infromation from their resumes and github\n",
    "                        \n",
    "            Please make sure you complete the objective above with the following rules:\n",
    "            1/ Extract all the information from the resume and understand it\n",
    "            2/ From the extracted data use the github link to analysis that persons github profile\n",
    "            3/ After collecting all the information and analysing it, you should conclude the summery of that person"
   ]
  },
  {
   "cell_type": "code",
   "execution_count": null,
   "metadata": {},
   "outputs": [],
   "source": [
    "agent_kwargs = {\n",
    "    \"extra_prompt_messages\": [MessagesPlaceholder(variable_name=\"memory\")],\n",
    "    \"system_message\": system_message,\n",
    "}\n",
    "\n",
    "llm = ChatOpenAI(temperature=0, model=\"gpt-3.5-turbo-16k-0613\")\n",
    "memory = ConversationSummaryBufferMemory(\n",
    "    memory_key=\"memory\", return_messages=True, llm=llm, max_token_limit=1000)\n",
    "\n",
    "agent = initialize_agent(\n",
    "    tools,\n",
    "    llm,\n",
    "    agent=AgentType.OPENAI_FUNCTIONS,\n",
    "    verbose=True,\n",
    "    agent_kwargs=agent_kwargs,\n",
    "    memory=memory,\n",
    ")"
   ]
  }
 ],
 "metadata": {
  "kernelspec": {
   "display_name": "base",
   "language": "python",
   "name": "python3"
  },
  "language_info": {
   "codemirror_mode": {
    "name": "ipython",
    "version": 3
   },
   "file_extension": ".py",
   "mimetype": "text/x-python",
   "name": "python",
   "nbconvert_exporter": "python",
   "pygments_lexer": "ipython3",
   "version": "3.10.9"
  },
  "orig_nbformat": 4
 },
 "nbformat": 4,
 "nbformat_minor": 2
}

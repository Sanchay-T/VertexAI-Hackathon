{
 "cells": [
  {
   "cell_type": "code",
   "execution_count": 20,
   "metadata": {},
   "outputs": [],
   "source": [
    "import os\n",
    "from dotenv import load_dotenv\n",
    "\n",
    "load_dotenv(\"../.env\")\n",
    "from langchain.chat_models import ChatOpenAI\n",
    "from langchain.experimental.plan_and_execute import PlanAndExecute, load_agent_executor, load_chat_planner\n",
    "from langchain.llms import OpenAI\n",
    "from langchain.agents.tools import Tool\n",
    "from langchain import LLMMathChain\n",
    "from langchain.prompts import PromptTemplate\n",
    "import json\n",
    "import requests\n",
    "from pydantic import BaseModel\n",
    "\n",
    "api_key = os.getenv(\"OPENAI_API_KEY\")\n",
    "serper_api_key = os.getenv(\"SERP_API_KEY\")\n",
    "os.environ[\"LANGCHAIN_WANDB_TRACING\"] = \"true\"\n",
    "os.environ[\"WANDB_PROJECT\"] = \"Claude\"\n",
    "anthropic_api_key = os.getenv(\"ANTHROPIC_API_KEY\")"
   ]
  },
  {
   "cell_type": "code",
   "execution_count": 1,
   "metadata": {},
   "outputs": [],
   "source": [
    "from langchain.chat_models import ChatAnthropic\n",
    "from langchain.prompts.chat import (\n",
    "    ChatPromptTemplate,\n",
    "    SystemMessagePromptTemplate,\n",
    "    AIMessagePromptTemplate,\n",
    "    HumanMessagePromptTemplate,\n",
    ")\n",
    "from langchain.schema import AIMessage, HumanMessage, SystemMessage"
   ]
  },
  {
   "cell_type": "code",
   "execution_count": 6,
   "metadata": {},
   "outputs": [],
   "source": [
    "chat = ChatAnthropic()"
   ]
  },
  {
   "cell_type": "code",
   "execution_count": 11,
   "metadata": {},
   "outputs": [
    {
     "name": "stdout",
     "output_type": "stream",
     "text": [
      " Here is a 149 word essay on Python:\n",
      "\n",
      "Python is a popular high-level programming language that was created by Guido van Rossum in the early 1990s. It has simple, easy-to-use syntax that emphasizes readability and therefore reduces the cost of program maintenance. Python supports modules and packages, which encourages program modularity and code reuse. The Python interpreter and extensive standard library are available in source or binary form for all major platforms, and can be freely distributed. Python has a large and comprehensive standard library which includes modules for many common programming tasks such as connecting to web servers, searching text with regular expressions, reading and modifying files. Python's interactive mode makes it easy to experiment with features and try out code fragments. Python can also be embedded in existing applications to provide a programmable interface. Python's high-level data types allow developers to express concepts without worrying about low-level details. Overall, Python strikes a good balance between program clarity and performance."
     ]
    },
    {
     "data": {
      "text/plain": [
       "AIMessage(content=\" Here is a 149 word essay on Python:\\n\\nPython is a popular high-level programming language that was created by Guido van Rossum in the early 1990s. It has simple, easy-to-use syntax that emphasizes readability and therefore reduces the cost of program maintenance. Python supports modules and packages, which encourages program modularity and code reuse. The Python interpreter and extensive standard library are available in source or binary form for all major platforms, and can be freely distributed. Python has a large and comprehensive standard library which includes modules for many common programming tasks such as connecting to web servers, searching text with regular expressions, reading and modifying files. Python's interactive mode makes it easy to experiment with features and try out code fragments. Python can also be embedded in existing applications to provide a programmable interface. Python's high-level data types allow developers to express concepts without worrying about low-level details. Overall, Python strikes a good balance between program clarity and performance.\", additional_kwargs={}, example=False)"
      ]
     },
     "execution_count": 11,
     "metadata": {},
     "output_type": "execute_result"
    }
   ],
   "source": [
    "messages = [\n",
    "    HumanMessage(\n",
    "        content=\"write a 150 words on python\"\n",
    "    )\n",
    "]\n",
    "chat(messages)"
   ]
  },
  {
   "cell_type": "code",
   "execution_count": 8,
   "metadata": {},
   "outputs": [],
   "source": [
    "from langchain.callbacks.manager import CallbackManager\n",
    "from langchain.callbacks.streaming_stdout import StreamingStdOutCallbackHandler"
   ]
  },
  {
   "cell_type": "code",
   "execution_count": 9,
   "metadata": {},
   "outputs": [
    {
     "data": {
      "text/plain": [
       "LLMResult(generations=[[ChatGeneration(text=' Voici la traduction en français de la phrase \"I love programming\" :\\n\\nJ\\'aime la programmation.', generation_info=None, message=AIMessage(content=' Voici la traduction en français de la phrase \"I love programming\" :\\n\\nJ\\'aime la programmation.', additional_kwargs={}, example=False))]], llm_output={}, run=[RunInfo(run_id=UUID('a302045d-0015-4e62-991b-e6ef19407c45'))])"
      ]
     },
     "execution_count": 9,
     "metadata": {},
     "output_type": "execute_result"
    }
   ],
   "source": [
    "await chat.agenerate([messages])"
   ]
  },
  {
   "cell_type": "code",
   "execution_count": 10,
   "metadata": {},
   "outputs": [
    {
     "name": "stdout",
     "output_type": "stream",
     "text": [
      " Voici la traduction en français : J'adore programmer."
     ]
    },
    {
     "data": {
      "text/plain": [
       "AIMessage(content=\" Voici la traduction en français : J'adore programmer.\", additional_kwargs={}, example=False)"
      ]
     },
     "execution_count": 10,
     "metadata": {},
     "output_type": "execute_result"
    }
   ],
   "source": [
    "chat = ChatAnthropic(\n",
    "    streaming=True,\n",
    "    verbose=True,\n",
    "    callback_manager=CallbackManager([StreamingStdOutCallbackHandler()]),\n",
    ")\n",
    "chat(messages)"
   ]
  },
  {
   "cell_type": "code",
   "execution_count": 21,
   "metadata": {},
   "outputs": [],
   "source": [
    "from langchain.document_loaders import WebBaseLoader\n",
    "\n",
    "\n",
    "loader = WebBaseLoader('https://github.com/poojanvig')\n",
    "\n",
    "\n",
    "github_profile = loader.load()"
   ]
  },
  {
   "cell_type": "code",
   "execution_count": 16,
   "metadata": {},
   "outputs": [
    {
     "data": {
      "text/plain": [
       "[Document(page_content='\\n\\n\\n\\n\\n\\n\\n\\n\\n\\n\\n\\n\\n\\n\\n\\n\\n\\n\\n\\n\\n\\n\\n\\n\\n\\n\\n\\n\\n\\n\\n\\n\\n\\n\\n\\n\\n\\n\\n\\n\\n\\n\\n\\n\\n\\n\\n\\n\\n\\n\\n\\nSanchay-T (Sanchay) · GitHub\\n\\n\\n\\n\\n\\n\\n\\n\\n\\n\\n\\n\\n\\n\\n\\n\\n\\n\\n\\n\\n\\n\\n\\n\\n\\n\\n\\n\\n\\n\\n\\n\\n\\n\\n\\n\\n\\n\\n\\n\\n\\n\\n\\n\\n\\nSkip to content\\n\\n\\n\\n\\n\\n\\n\\nToggle navigation\\n\\n\\n\\n\\n\\n\\n\\n\\n\\n\\n            Sign\\xa0up\\n          \\n\\n\\n \\n\\n\\n\\n\\n\\n\\n\\n\\n\\n\\n\\n\\n\\n        Product\\n        \\n\\n\\n\\n\\n\\n\\n\\n\\n\\n\\n\\n\\nActions\\n        Automate any workflow\\n      \\n\\n\\n\\n\\n\\n\\n\\nPackages\\n        Host and manage packages\\n      \\n\\n\\n\\n\\n\\n\\n\\nSecurity\\n        Find and fix vulnerabilities\\n      \\n\\n\\n\\n\\n\\n\\n\\nCodespaces\\n        Instant dev environments\\n      \\n\\n\\n\\n\\n\\n\\n\\nCopilot\\n        Write better code with AI\\n      \\n\\n\\n\\n\\n\\n\\n\\nCode review\\n        Manage code changes\\n      \\n\\n\\n\\n\\n\\n\\n\\nIssues\\n        Plan and track work\\n      \\n\\n\\n\\n\\n\\n\\n\\nDiscussions\\n        Collaborate outside of code\\n      \\n\\n\\n\\n\\nExplore\\n\\n\\n\\n      All features\\n\\n    \\n\\n\\n\\n      Documentation\\n\\n    \\n\\n\\n\\n\\n\\n      GitHub Skills\\n\\n    \\n\\n\\n\\n\\n\\n      Blog\\n\\n    \\n\\n\\n\\n\\n\\n\\n\\n\\n\\n        Solutions\\n        \\n\\n\\n\\n\\n\\nFor\\n\\n\\n\\n      Enterprise\\n\\n    \\n\\n\\n\\n      Teams\\n\\n    \\n\\n\\n\\n      Startups\\n\\n    \\n\\n\\n\\n      Education\\n\\n    \\n\\n\\n\\n\\n\\n\\nBy Solution\\n\\n\\n\\n      CI/CD & Automation\\n\\n    \\n\\n\\n\\n      DevOps\\n\\n    \\n\\n\\n\\n\\n\\n      DevSecOps\\n\\n    \\n\\n\\n\\n\\n\\n\\nResources\\n\\n\\n\\n      Customer Stories\\n\\n    \\n\\n\\n\\n      White papers, Ebooks, Webinars\\n\\n    \\n\\n\\n\\n\\n\\n      Partners\\n\\n    \\n\\n\\n\\n\\n\\n\\n\\n\\n\\n        Open Source\\n        \\n\\n\\n\\n\\n\\n\\n\\n\\n\\nGitHub Sponsors\\n        Fund open source developers\\n      \\n\\n\\n\\n\\n\\n\\n\\n\\nThe ReadME Project\\n        GitHub community articles\\n      \\n\\n\\n\\n\\nRepositories\\n\\n\\n\\n      Topics\\n\\n    \\n\\n\\n\\n      Trending\\n\\n    \\n\\n\\n\\n      Collections\\n\\n    \\n\\n\\n\\n\\n\\n\\nPricing\\n\\n\\n\\n\\n\\n\\n\\n\\n\\n\\n\\n\\nSearch or jump to...\\n\\n\\n\\n\\n\\n\\n\\nSearch code, repositories, users, issues, pull requests...\\n\\n \\n\\n\\n\\n\\n        Search\\n      \\n\\n\\n\\n\\n\\n\\n\\n\\n\\n\\n\\n\\n\\nClear\\n \\n\\n\\n\\n\\n\\n\\n\\n\\n\\n\\n\\n\\n\\n\\n\\n\\n\\n\\n\\n\\n\\n\\n\\n\\n              Search syntax tips\\n \\n\\n\\n\\n\\n\\n\\n\\n\\n\\n\\n\\n\\n\\n\\n        Provide feedback\\n      \\n\\n\\n\\n\\n\\n\\n\\n\\n \\nWe read every piece of feedback, and take your input very seriously.\\n\\n\\nInclude my email address so I can be contacted\\n\\n     Cancel\\n\\n    Submit feedback\\n\\n\\n\\n\\n\\n\\n\\n\\n\\n\\n        Saved searches\\n      \\nUse saved searches to filter your results more quickly\\n\\n\\n\\n\\n\\n\\n\\n\\n \\n\\n\\n\\n\\n\\nName\\n\\n\\n\\n\\n\\n\\nQuery\\n\\n\\n\\n            To see all available qualifiers, see our documentation.\\n          \\n \\n\\n\\n\\n\\n     Cancel\\n\\n    Create saved search\\n\\n\\n\\n\\n\\n\\n\\n\\n              Sign in\\n            \\n\\n\\n              Sign up\\n            \\n\\n\\n\\n\\n\\n\\n\\n\\n\\nYou signed in with another tab or window. Reload to refresh your session.\\nYou signed out in another tab or window. Reload to refresh your session.\\nYou switched accounts on another tab or window. Reload to refresh your session.\\n\\n\\n\\n\\n\\n\\n\\n\\n\\n\\n\\n\\n\\n\\n\\n\\n\\n \\n\\n\\n\\n\\n\\nSanchay-T\\n\\n\\nFollow\\n\\n\\n\\n\\n\\n\\n \\n\\n\\n\\n\\n\\n    Overview\\n\\n\\n\\n\\n\\n    Repositories\\n    38\\n\\n\\n\\n\\n\\n    Projects\\n    0\\n\\n\\n\\n\\n\\n      Packages\\n      0\\n\\n\\n\\n\\n\\n    Stars\\n    46\\n\\n\\n\\n\\n \\n\\n\\n\\nMore\\n\\n\\n \\n\\n\\nOverview\\n\\n\\nRepositories\\n\\n\\nProjects\\n\\n\\nPackages\\n\\n\\nStars\\n\\n\\n\\n\\n\\n\\n\\n \\n\\n\\n\\n \\n\\n\\n\\n\\n\\n\\n\\nSanchay-T\\n \\n\\n\\n\\nFollow\\n\\n\\n\\n\\n\\n\\n\\n\\n\\n\\n\\n\\n\\n          Sanchay\\n        \\n\\n          Sanchay-T\\n\\n        \\n\\n\\n\\n\\n\\n\\n\\n\\n\\n\\nFollow\\n\\n\\n\\n\\n\\n\\n\\n\\n\\n\\n\\n\\n\\n2\\n          followers\\n        · \\n6\\n          following\\n\\n\\n\\n\\n\\n\\n\\nAchievementsx2BetaSend feedbackAchievementsx2BetaSend feedback\\nHighlights\\n\\n\\n\\n\\n  Pro\\n\\n\\n\\n\\n\\n        Block or Report\\n      \\n\\n\\n\\n\\n\\n\\n\\nBlock or report Sanchay-T\\n\\n\\n\\n\\n\\n\\nBlock user\\n\\n            Prevent this user from interacting with your repositories and sending you notifications.\\n          Learn more about blocking users.\\n        \\n\\n              You must be logged in to block users.\\n            \\n\\n            Add an optional note:\\n              \\n\\n        Note\\n\\n\\n\\n\\n\\n\\n\\n\\n\\n Please don\\'t include any personal information such as legal names or email addresses. Maximum 100 characters, markdown supported. This note will be visible to only you.\\n\\n\\n\\n          Block user\\n        \\n \\n\\nReport abuse\\n\\n        Contact GitHub support about this user’s behavior.\\n        Learn more about reporting abuse.\\n      \\nReport abuse\\n\\n\\n\\n\\n\\n\\n\\n \\n\\n\\n\\n\\n\\n    Overview\\n\\n\\n\\n\\n\\n    Repositories\\n    38\\n\\n\\n\\n\\n\\n    Projects\\n    0\\n\\n\\n\\n\\n\\n      Packages\\n      0\\n\\n\\n\\n\\n\\n    Stars\\n    46\\n\\n\\n\\n\\n \\n\\n\\n\\nMore\\n\\n\\n \\n\\n\\nOverview\\n\\n\\nRepositories\\n\\n\\nProjects\\n\\n\\nPackages\\n\\n\\nStars\\n\\n\\n\\n\\n\\n\\n\\n\\n\\n\\n\\n      Pinned\\n    \\n\\n\\n\\n\\n\\n\\n\\n\\n\\n\\n\\n\\n\\n\\n\\nE-commerce\\nPublic\\n\\n\\n\\n\\n\\n\\n\\nCSS\\n\\n\\n\\n\\n\\n\\n\\n\\n\\n\\n\\n\\n\\n\\nSales-Inventory-Management\\nPublic\\n\\n\\n\\n        A java based project on Sales Inventory Management\\n      \\n\\n\\n\\nJava\\n\\n\\n\\n\\n\\n\\n\\n\\n\\n\\n\\n\\n\\n\\nCancer_Prediction\\nPublic\\n\\n\\n\\n\\n\\n\\n\\nHTML\\n\\n\\n\\n\\n\\n\\n\\n\\n\\n\\n\\n\\n\\n\\nFacial-Recognition\\nPublic\\n\\n\\n\\n\\n\\n\\n\\nPython\\n\\n\\n\\n\\n\\n\\n\\n\\n\\n\\n\\n\\n\\n\\nStockPrice_Prediction\\nPublic\\n\\n\\n\\n\\n\\n\\n\\nJupyter Notebook\\n\\n\\n\\n\\n\\n\\n\\n\\n\\n\\n\\n\\n      466\\n      contributions\\n        in the last year\\n    \\n\\n\\n\\n\\nContribution Graph\\n\\n\\n\\nDay of Week\\n\\n\\nJuly\\nJul\\n\\n\\nAugust\\nAug\\n\\n\\nSeptember\\nSep\\n\\n\\nOctober\\nOct\\n\\n\\nNovember\\nNov\\n\\n\\nDecember\\nDec\\n\\n\\nJanuary\\nJan\\n\\n\\nFebruary\\nFeb\\n\\n\\nMarch\\nMar\\n\\n\\nApril\\nApr\\n\\n\\nMay\\nMay\\n\\n\\nJune\\nJun\\n\\n\\nJuly\\nJul\\n\\n\\n\\n\\n\\n\\nSunday\\n\\n              Sun\\n            \\n\\nNo contributions on Sunday, July 24, 2022\\nNo contributions on Sunday, July 31, 2022\\nNo contributions on Sunday, August 7, 2022\\nNo contributions on Sunday, August 14, 2022\\nNo contributions on Sunday, August 21, 2022\\n1 contribution on Sunday, August 28, 2022\\nNo contributions on Sunday, September 4, 2022\\nNo contributions on Sunday, September 11, 2022\\nNo contributions on Sunday, September 18, 2022\\nNo contributions on Sunday, September 25, 2022\\nNo contributions on Sunday, October 2, 2022\\nNo contributions on Sunday, October 9, 2022\\nNo contributions on Sunday, October 16, 2022\\nNo contributions on Sunday, October 23, 2022\\n1 contribution on Sunday, October 30, 2022\\nNo contributions on Sunday, November 6, 2022\\n4 contributions on Sunday, November 13, 2022\\nNo contributions on Sunday, November 20, 2022\\nNo contributions on Sunday, November 27, 2022\\n12 contributions on Sunday, December 4, 2022\\nNo contributions on Sunday, December 11, 2022\\nNo contributions on Sunday, December 18, 2022\\nNo contributions on Sunday, December 25, 2022\\n2 contributions on Sunday, January 1, 2023\\nNo contributions on Sunday, January 8, 2023\\nNo contributions on Sunday, January 15, 2023\\nNo contributions on Sunday, January 22, 2023\\nNo contributions on Sunday, January 29, 2023\\nNo contributions on Sunday, February 5, 2023\\nNo contributions on Sunday, February 12, 2023\\nNo contributions on Sunday, February 19, 2023\\nNo contributions on Sunday, February 26, 2023\\nNo contributions on Sunday, March 5, 2023\\n9 contributions on Sunday, March 12, 2023\\nNo contributions on Sunday, March 19, 2023\\nNo contributions on Sunday, March 26, 2023\\nNo contributions on Sunday, April 2, 2023\\n14 contributions on Sunday, April 9, 2023\\nNo contributions on Sunday, April 16, 2023\\nNo contributions on Sunday, April 23, 2023\\n1 contribution on Sunday, April 30, 2023\\nNo contributions on Sunday, May 7, 2023\\nNo contributions on Sunday, May 14, 2023\\nNo contributions on Sunday, May 21, 2023\\nNo contributions on Sunday, May 28, 2023\\nNo contributions on Sunday, June 4, 2023\\nNo contributions on Sunday, June 11, 2023\\nNo contributions on Sunday, June 18, 2023\\nNo contributions on Sunday, June 25, 2023\\nNo contributions on Sunday, July 2, 2023\\n2 contributions on Sunday, July 9, 2023\\nNo contributions on Sunday, July 16, 2023\\n1 contribution on Sunday, July 23, 2023\\n\\n\\n\\nMonday\\n\\n              Mon\\n            \\n\\nNo contributions on Monday, July 25, 2022\\nNo contributions on Monday, August 1, 2022\\nNo contributions on Monday, August 8, 2022\\nNo contributions on Monday, August 15, 2022\\nNo contributions on Monday, August 22, 2022\\n1 contribution on Monday, August 29, 2022\\nNo contributions on Monday, September 5, 2022\\nNo contributions on Monday, September 12, 2022\\nNo contributions on Monday, September 19, 2022\\nNo contributions on Monday, September 26, 2022\\nNo contributions on Monday, October 3, 2022\\nNo contributions on Monday, October 10, 2022\\nNo contributions on Monday, October 17, 2022\\nNo contributions on Monday, October 24, 2022\\nNo contributions on Monday, October 31, 2022\\nNo contributions on Monday, November 7, 2022\\nNo contributions on Monday, November 14, 2022\\nNo contributions on Monday, November 21, 2022\\nNo contributions on Monday, November 28, 2022\\nNo contributions on Monday, December 5, 2022\\nNo contributions on Monday, December 12, 2022\\n2 contributions on Monday, December 19, 2022\\nNo contributions on Monday, December 26, 2022\\n7 contributions on Monday, January 2, 2023\\nNo contributions on Monday, January 9, 2023\\nNo contributions on Monday, January 16, 2023\\nNo contributions on Monday, January 23, 2023\\nNo contributions on Monday, January 30, 2023\\nNo contributions on Monday, February 6, 2023\\nNo contributions on Monday, February 13, 2023\\nNo contributions on Monday, February 20, 2023\\n2 contributions on Monday, February 27, 2023\\n3 contributions on Monday, March 6, 2023\\n4 contributions on Monday, March 13, 2023\\nNo contributions on Monday, March 20, 2023\\nNo contributions on Monday, March 27, 2023\\n2 contributions on Monday, April 3, 2023\\n6 contributions on Monday, April 10, 2023\\nNo contributions on Monday, April 17, 2023\\n8 contributions on Monday, April 24, 2023\\n1 contribution on Monday, May 1, 2023\\nNo contributions on Monday, May 8, 2023\\n1 contribution on Monday, May 15, 2023\\nNo contributions on Monday, May 22, 2023\\nNo contributions on Monday, May 29, 2023\\nNo contributions on Monday, June 5, 2023\\nNo contributions on Monday, June 12, 2023\\nNo contributions on Monday, June 19, 2023\\nNo contributions on Monday, June 26, 2023\\n1 contribution on Monday, July 3, 2023\\n1 contribution on Monday, July 10, 2023\\nNo contributions on Monday, July 17, 2023\\n\\n\\n\\n\\nTuesday\\n\\n              Tue\\n            \\n\\nNo contributions on Tuesday, July 26, 2022\\nNo contributions on Tuesday, August 2, 2022\\nNo contributions on Tuesday, August 9, 2022\\nNo contributions on Tuesday, August 16, 2022\\nNo contributions on Tuesday, August 23, 2022\\nNo contributions on Tuesday, August 30, 2022\\nNo contributions on Tuesday, September 6, 2022\\nNo contributions on Tuesday, September 13, 2022\\nNo contributions on Tuesday, September 20, 2022\\nNo contributions on Tuesday, September 27, 2022\\nNo contributions on Tuesday, October 4, 2022\\nNo contributions on Tuesday, October 11, 2022\\nNo contributions on Tuesday, October 18, 2022\\nNo contributions on Tuesday, October 25, 2022\\nNo contributions on Tuesday, November 1, 2022\\nNo contributions on Tuesday, November 8, 2022\\n1 contribution on Tuesday, November 15, 2022\\nNo contributions on Tuesday, November 22, 2022\\nNo contributions on Tuesday, November 29, 2022\\n1 contribution on Tuesday, December 6, 2022\\n2 contributions on Tuesday, December 13, 2022\\n6 contributions on Tuesday, December 20, 2022\\nNo contributions on Tuesday, December 27, 2022\\n7 contributions on Tuesday, January 3, 2023\\nNo contributions on Tuesday, January 10, 2023\\nNo contributions on Tuesday, January 17, 2023\\n1 contribution on Tuesday, January 24, 2023\\n1 contribution on Tuesday, January 31, 2023\\nNo contributions on Tuesday, February 7, 2023\\n1 contribution on Tuesday, February 14, 2023\\nNo contributions on Tuesday, February 21, 2023\\n3 contributions on Tuesday, February 28, 2023\\n2 contributions on Tuesday, March 7, 2023\\n1 contribution on Tuesday, March 14, 2023\\nNo contributions on Tuesday, March 21, 2023\\nNo contributions on Tuesday, March 28, 2023\\nNo contributions on Tuesday, April 4, 2023\\nNo contributions on Tuesday, April 11, 2023\\nNo contributions on Tuesday, April 18, 2023\\n7 contributions on Tuesday, April 25, 2023\\nNo contributions on Tuesday, May 2, 2023\\nNo contributions on Tuesday, May 9, 2023\\n1 contribution on Tuesday, May 16, 2023\\nNo contributions on Tuesday, May 23, 2023\\nNo contributions on Tuesday, May 30, 2023\\nNo contributions on Tuesday, June 6, 2023\\nNo contributions on Tuesday, June 13, 2023\\nNo contributions on Tuesday, June 20, 2023\\n1 contribution on Tuesday, June 27, 2023\\nNo contributions on Tuesday, July 4, 2023\\nNo contributions on Tuesday, July 11, 2023\\nNo contributions on Tuesday, July 18, 2023\\n\\n\\n\\n\\nWednesday\\n\\n              Wed\\n            \\n\\nNo contributions on Wednesday, July 27, 2022\\nNo contributions on Wednesday, August 3, 2022\\nNo contributions on Wednesday, August 10, 2022\\nNo contributions on Wednesday, August 17, 2022\\nNo contributions on Wednesday, August 24, 2022\\nNo contributions on Wednesday, August 31, 2022\\nNo contributions on Wednesday, September 7, 2022\\nNo contributions on Wednesday, September 14, 2022\\nNo contributions on Wednesday, September 21, 2022\\nNo contributions on Wednesday, September 28, 2022\\nNo contributions on Wednesday, October 5, 2022\\nNo contributions on Wednesday, October 12, 2022\\nNo contributions on Wednesday, October 19, 2022\\nNo contributions on Wednesday, October 26, 2022\\nNo contributions on Wednesday, November 2, 2022\\nNo contributions on Wednesday, November 9, 2022\\nNo contributions on Wednesday, November 16, 2022\\nNo contributions on Wednesday, November 23, 2022\\nNo contributions on Wednesday, November 30, 2022\\nNo contributions on Wednesday, December 7, 2022\\n21 contributions on Wednesday, December 14, 2022\\n12 contributions on Wednesday, December 21, 2022\\n6 contributions on Wednesday, December 28, 2022\\nNo contributions on Wednesday, January 4, 2023\\nNo contributions on Wednesday, January 11, 2023\\nNo contributions on Wednesday, January 18, 2023\\nNo contributions on Wednesday, January 25, 2023\\nNo contributions on Wednesday, February 1, 2023\\n1 contribution on Wednesday, February 8, 2023\\n3 contributions on Wednesday, February 15, 2023\\n2 contributions on Wednesday, February 22, 2023\\nNo contributions on Wednesday, March 1, 2023\\nNo contributions on Wednesday, March 8, 2023\\nNo contributions on Wednesday, March 15, 2023\\nNo contributions on Wednesday, March 22, 2023\\nNo contributions on Wednesday, March 29, 2023\\nNo contributions on Wednesday, April 5, 2023\\n2 contributions on Wednesday, April 12, 2023\\nNo contributions on Wednesday, April 19, 2023\\nNo contributions on Wednesday, April 26, 2023\\nNo contributions on Wednesday, May 3, 2023\\nNo contributions on Wednesday, May 10, 2023\\n1 contribution on Wednesday, May 17, 2023\\n1 contribution on Wednesday, May 24, 2023\\nNo contributions on Wednesday, May 31, 2023\\nNo contributions on Wednesday, June 7, 2023\\nNo contributions on Wednesday, June 14, 2023\\nNo contributions on Wednesday, June 21, 2023\\nNo contributions on Wednesday, June 28, 2023\\nNo contributions on Wednesday, July 5, 2023\\nNo contributions on Wednesday, July 12, 2023\\nNo contributions on Wednesday, July 19, 2023\\n\\n\\n\\n\\nThursday\\n\\n              Thu\\n            \\n\\nNo contributions on Thursday, July 28, 2022\\nNo contributions on Thursday, August 4, 2022\\nNo contributions on Thursday, August 11, 2022\\nNo contributions on Thursday, August 18, 2022\\nNo contributions on Thursday, August 25, 2022\\nNo contributions on Thursday, September 1, 2022\\nNo contributions on Thursday, September 8, 2022\\nNo contributions on Thursday, September 15, 2022\\nNo contributions on Thursday, September 22, 2022\\nNo contributions on Thursday, September 29, 2022\\n1 contribution on Thursday, October 6, 2022\\n1 contribution on Thursday, October 13, 2022\\nNo contributions on Thursday, October 20, 2022\\nNo contributions on Thursday, October 27, 2022\\nNo contributions on Thursday, November 3, 2022\\n3 contributions on Thursday, November 10, 2022\\n6 contributions on Thursday, November 17, 2022\\nNo contributions on Thursday, November 24, 2022\\nNo contributions on Thursday, December 1, 2022\\nNo contributions on Thursday, December 8, 2022\\n2 contributions on Thursday, December 15, 2022\\n6 contributions on Thursday, December 22, 2022\\n5 contributions on Thursday, December 29, 2022\\n6 contributions on Thursday, January 5, 2023\\nNo contributions on Thursday, January 12, 2023\\n2 contributions on Thursday, January 19, 2023\\nNo contributions on Thursday, January 26, 2023\\n4 contributions on Thursday, February 2, 2023\\n1 contribution on Thursday, February 9, 2023\\n3 contributions on Thursday, February 16, 2023\\nNo contributions on Thursday, February 23, 2023\\nNo contributions on Thursday, March 2, 2023\\n1 contribution on Thursday, March 9, 2023\\nNo contributions on Thursday, March 16, 2023\\nNo contributions on Thursday, March 23, 2023\\nNo contributions on Thursday, March 30, 2023\\nNo contributions on Thursday, April 6, 2023\\nNo contributions on Thursday, April 13, 2023\\nNo contributions on Thursday, April 20, 2023\\nNo contributions on Thursday, April 27, 2023\\nNo contributions on Thursday, May 4, 2023\\nNo contributions on Thursday, May 11, 2023\\nNo contributions on Thursday, May 18, 2023\\nNo contributions on Thursday, May 25, 2023\\nNo contributions on Thursday, June 1, 2023\\nNo contributions on Thursday, June 8, 2023\\n3 contributions on Thursday, June 15, 2023\\nNo contributions on Thursday, June 22, 2023\\nNo contributions on Thursday, June 29, 2023\\n2 contributions on Thursday, July 6, 2023\\nNo contributions on Thursday, July 13, 2023\\n3 contributions on Thursday, July 20, 2023\\n\\n\\n\\n\\nFriday\\n\\n              Fri\\n            \\n\\nNo contributions on Friday, July 29, 2022\\nNo contributions on Friday, August 5, 2022\\nNo contributions on Friday, August 12, 2022\\nNo contributions on Friday, August 19, 2022\\nNo contributions on Friday, August 26, 2022\\nNo contributions on Friday, September 2, 2022\\nNo contributions on Friday, September 9, 2022\\nNo contributions on Friday, September 16, 2022\\nNo contributions on Friday, September 23, 2022\\nNo contributions on Friday, September 30, 2022\\n14 contributions on Friday, October 7, 2022\\n2 contributions on Friday, October 14, 2022\\nNo contributions on Friday, October 21, 2022\\nNo contributions on Friday, October 28, 2022\\nNo contributions on Friday, November 4, 2022\\n7 contributions on Friday, November 11, 2022\\n18 contributions on Friday, November 18, 2022\\nNo contributions on Friday, November 25, 2022\\nNo contributions on Friday, December 2, 2022\\nNo contributions on Friday, December 9, 2022\\n6 contributions on Friday, December 16, 2022\\nNo contributions on Friday, December 23, 2022\\n9 contributions on Friday, December 30, 2022\\n2 contributions on Friday, January 6, 2023\\nNo contributions on Friday, January 13, 2023\\nNo contributions on Friday, January 20, 2023\\n1 contribution on Friday, January 27, 2023\\nNo contributions on Friday, February 3, 2023\\nNo contributions on Friday, February 10, 2023\\nNo contributions on Friday, February 17, 2023\\n2 contributions on Friday, February 24, 2023\\nNo contributions on Friday, March 3, 2023\\nNo contributions on Friday, March 10, 2023\\nNo contributions on Friday, March 17, 2023\\n14 contributions on Friday, March 24, 2023\\n1 contribution on Friday, March 31, 2023\\n18 contributions on Friday, April 7, 2023\\n6 contributions on Friday, April 14, 2023\\nNo contributions on Friday, April 21, 2023\\nNo contributions on Friday, April 28, 2023\\nNo contributions on Friday, May 5, 2023\\nNo contributions on Friday, May 12, 2023\\n2 contributions on Friday, May 19, 2023\\nNo contributions on Friday, May 26, 2023\\nNo contributions on Friday, June 2, 2023\\nNo contributions on Friday, June 9, 2023\\nNo contributions on Friday, June 16, 2023\\nNo contributions on Friday, June 23, 2023\\nNo contributions on Friday, June 30, 2023\\nNo contributions on Friday, July 7, 2023\\n1 contribution on Friday, July 14, 2023\\nNo contributions on Friday, July 21, 2023\\n\\n\\n\\n\\nSaturday\\n\\n              Sat\\n            \\n\\nNo contributions on Saturday, July 30, 2022\\nNo contributions on Saturday, August 6, 2022\\nNo contributions on Saturday, August 13, 2022\\nNo contributions on Saturday, August 20, 2022\\nNo contributions on Saturday, August 27, 2022\\nNo contributions on Saturday, September 3, 2022\\nNo contributions on Saturday, September 10, 2022\\nNo contributions on Saturday, September 17, 2022\\nNo contributions on Saturday, September 24, 2022\\n3 contributions on Saturday, October 1, 2022\\nNo contributions on Saturday, October 8, 2022\\nNo contributions on Saturday, October 15, 2022\\nNo contributions on Saturday, October 22, 2022\\nNo contributions on Saturday, October 29, 2022\\nNo contributions on Saturday, November 5, 2022\\n87 contributions on Saturday, November 12, 2022\\nNo contributions on Saturday, November 19, 2022\\nNo contributions on Saturday, November 26, 2022\\nNo contributions on Saturday, December 3, 2022\\nNo contributions on Saturday, December 10, 2022\\nNo contributions on Saturday, December 17, 2022\\nNo contributions on Saturday, December 24, 2022\\n7 contributions on Saturday, December 31, 2022\\n3 contributions on Saturday, January 7, 2023\\n2 contributions on Saturday, January 14, 2023\\nNo contributions on Saturday, January 21, 2023\\n1 contribution on Saturday, January 28, 2023\\n3 contributions on Saturday, February 4, 2023\\n1 contribution on Saturday, February 11, 2023\\nNo contributions on Saturday, February 18, 2023\\nNo contributions on Saturday, February 25, 2023\\nNo contributions on Saturday, March 4, 2023\\n1 contribution on Saturday, March 11, 2023\\n5 contributions on Saturday, March 18, 2023\\nNo contributions on Saturday, March 25, 2023\\nNo contributions on Saturday, April 1, 2023\\n10 contributions on Saturday, April 8, 2023\\n3 contributions on Saturday, April 15, 2023\\nNo contributions on Saturday, April 22, 2023\\n2 contributions on Saturday, April 29, 2023\\nNo contributions on Saturday, May 6, 2023\\n2 contributions on Saturday, May 13, 2023\\nNo contributions on Saturday, May 20, 2023\\nNo contributions on Saturday, May 27, 2023\\nNo contributions on Saturday, June 3, 2023\\nNo contributions on Saturday, June 10, 2023\\nNo contributions on Saturday, June 17, 2023\\nNo contributions on Saturday, June 24, 2023\\nNo contributions on Saturday, July 1, 2023\\n3 contributions on Saturday, July 8, 2023\\nNo contributions on Saturday, July 15, 2023\\nNo contributions on Saturday, July 22, 2023\\n\\n\\n\\n\\n\\n    User activity over one year of time. Each column is one week, with older weeks to the left. Select a day to filter the \"contribution activity\" section.\\n  \\n\\n\\n\\n\\n              Learn how we count contributions\\n\\n\\n            Less\\n              \\n\\n\\n\\n\\n\\n\\n\\n\\n\\n\\n\\n\\n\\n\\n            More\\n          \\n\\n\\n\\n\\n\\n\\n\\n\\n\\n\\n2023\\n\\n\\n2022\\n\\n\\n2021\\n\\n\\n2020\\n\\n\\n\\n\\n\\n    Contribution activity\\n  \\n\\n\\n\\nJuly 2023\\n\\n\\n\\n\\n\\n \\n \\n            Created 9\\n            commits in\\n            3\\n            repositories\\n          \\n\\n\\n\\n\\n\\n \\n\\n\\nSanchay-T/VertexAI-Hackathon\\n\\n        5 commits\\n \\n\\n\\n\\n\\n\\n\\n\\n\\nSanchay-T/Research-Agent\\n\\n        2 commits\\n \\n\\n\\n\\n\\n\\n\\n\\n\\nSanchay-T/FINDADDY\\n\\n        2 commits\\n \\n\\n\\n\\n\\n\\n\\n\\n\\n\\n\\n\\n\\n\\n\\n \\n \\n            Created\\n              3\\n            \\n            repositories\\n          \\n\\n\\n\\n\\n\\n \\n\\n\\n\\n\\nSanchay-T/Research-Agent\\n\\n\\n\\n\\n\\nPython\\n\\n\\n\\n                  Jul 20\\n                \\n\\n\\n\\n\\n\\nSanchay-T/botpress\\n\\n\\n\\n\\n\\nTypeScript\\n\\n\\n\\n                  Jul 14\\n                \\n\\n\\n\\n\\n\\nSanchay-T/VertexAI-Hackathon\\n\\n\\n\\n\\n\\nCSS\\n\\n•\\n                    Built by\\n                      \\n\\n \\n\\n \\n\\n                  Jul 8\\n                \\n\\n\\n\\n\\n\\n\\n\\n\\n\\n \\n \\n            Opened 1\\n            \\n            pull request in\\n            1\\n            repository\\n          \\n\\n\\n\\n\\n\\n\\n\\n \\nSanchay-T/FINDADDY\\n\\n\\n              1\\n            \\n            merged\\n        \\n\\n\\n \\n\\n\\n\\n\\n\\n\\n\\nSql\\n \\n\\n\\n              Jul 3\\n            \\n\\n\\n\\n\\n\\n\\n\\n\\n\\n\\n\\n \\n            1\\n            contribution\\n            in private repositories\\n          \\n\\n            Jul 8\\n          \\n\\n\\n\\n\\n\\n\\n\\n\\n\\nShow more activity\\n\\n    Seeing something unexpected? Take a look at the\\n    GitHub profile guide.\\n  \\n\\n\\n\\n\\n\\n\\n\\n\\n\\n\\nFooter\\n\\n\\n\\n\\n\\n\\n\\n \\n        © 2023 GitHub, Inc.\\n        \\n\\n\\n\\nFooter navigation\\n\\nTerms\\nPrivacy\\nSecurity\\nStatus\\nDocs\\nContact GitHub\\nPricing\\nAPI\\nTraining\\nBlog\\nAbout\\n\\n\\n\\n\\n\\n\\n\\n\\n\\n\\n\\n\\n\\n\\n\\n\\n    You can’t perform that action at this time.\\n  \\n\\n\\n\\n\\n\\n\\n\\n\\n\\n\\n\\n', metadata={'source': 'https://github.com/Sanchay-T', 'title': 'Sanchay-T (Sanchay) · GitHub', 'description': 'Sanchay-T has 38 repositories available. Follow their code on GitHub.', 'language': 'en'})]"
      ]
     },
     "execution_count": 16,
     "metadata": {},
     "output_type": "execute_result"
    }
   ],
   "source": []
  },
  {
   "cell_type": "code",
   "execution_count": 13,
   "metadata": {},
   "outputs": [
    {
     "name": "stdout",
     "output_type": "stream",
     "text": [
      " Here is a detailed summary of the key information I extracted from the GitHub profile of Sanchay-T:\n",
      "\n",
      "```json\n",
      "{\n",
      "  \"basic_info\": {\n",
      "    \"name\": \"Sanchay-T\", \n",
      "    \"url\": \"https://github.com/Sanchay-T\",\n",
      "    \"description\": \"Sanchay-T has 38 repositories available. Follow their code on GitHub.\",\n",
      "    \"location\": null,\n",
      "    \"company\": null,\n",
      "    \"followers\": 2,\n",
      "    \"following\": 6\n",
      "  },\n",
      "  \"activity\": {\n",
      "    \"contributions_last_year\": 466,\n",
      "    \"contributions_by_day\": {\n",
      "      \"busiest_day\": \"Saturday, November 12, 2022 (87 contributions)\",\n",
      "      \"typical_days\": \"0-5 contributions\", \n",
      "      \"no_contributions\": \"113 days\"  \n",
      "    },\n",
      "    \"repositories_created\": {\n",
      "      \"total\": 38,\n",
      "      \"last_3_months\": 3,\n",
      "      \"popular_languages\": [\"Python\", \"Java\", \"CSS\"]\n",
      "    },\n",
      "    \"pull_requests\": {  \n",
      "      \"opened_last_3_months\": 1\n",
      "    },\n",
      "    \"stars\": {\n",
      "      \"total\": 46,\n",
      "      \"g"
     ]
    },
    {
     "data": {
      "text/plain": [
       "AIMessage(content=' Here is a detailed summary of the key information I extracted from the GitHub profile of Sanchay-T:\\n\\n```json\\n{\\n  \"basic_info\": {\\n    \"name\": \"Sanchay-T\", \\n    \"url\": \"https://github.com/Sanchay-T\",\\n    \"description\": \"Sanchay-T has 38 repositories available. Follow their code on GitHub.\",\\n    \"location\": null,\\n    \"company\": null,\\n    \"followers\": 2,\\n    \"following\": 6\\n  },\\n  \"activity\": {\\n    \"contributions_last_year\": 466,\\n    \"contributions_by_day\": {\\n      \"busiest_day\": \"Saturday, November 12, 2022 (87 contributions)\",\\n      \"typical_days\": \"0-5 contributions\", \\n      \"no_contributions\": \"113 days\"  \\n    },\\n    \"repositories_created\": {\\n      \"total\": 38,\\n      \"last_3_months\": 3,\\n      \"popular_languages\": [\"Python\", \"Java\", \"CSS\"]\\n    },\\n    \"pull_requests\": {  \\n      \"opened_last_3_months\": 1\\n    },\\n    \"stars\": {\\n      \"total\": 46,\\n      \"g', additional_kwargs={}, example=False)"
      ]
     },
     "execution_count": 13,
     "metadata": {},
     "output_type": "execute_result"
    }
   ],
   "source": [
    "messages = [\n",
    "    HumanMessage(\n",
    "        content=f'You are an expert Github Analyst and experiece in leading top projects and an awesome project manager.Your job is to analyse this github profile : {docs} and extract key contents in json and summarize the most important things in great detail.'\n",
    "    )\n",
    "]\n",
    "chat(messages)"
   ]
  },
  {
   "cell_type": "code",
   "execution_count": 18,
   "metadata": {},
   "outputs": [
    {
     "name": "stdout",
     "output_type": "stream",
     "text": [
      " Here is a summary of the key information extracted from the GitHub profile of poojanvig in JSON format:\n",
      "\n",
      "```json\n",
      "{\n",
      "  \"name\": \"Poojan Vig\", \n",
      "  \"username\": \"poojanvig\",\n",
      "  \"url\": \"https://github.com/poojanvig\",\n",
      "  \"bio\": \"I am a highly motivated engineer with a passion for artificial intelligence and data science. I have a strong foundation in math, statistics, and computer science, and am proficient in programming languages such as Python and R. My experience includes working with machine learning algorithms, collecting, cleaning and analyzing data, as well as building and evaluating predictive models. I stay current with the latest advancements in the field by reading research papers and attending conferences and workshops. I am seeking opportunities to apply my skills to real-world problems and continue to develop my knowledge and experience in the field of AI and data science.\",\n",
      "  \"location\": null,\n",
      "  \"followers\": 4,\n",
      "  \"following\": 6,\n",
      "  \"public_repos\": 6,\n",
      "  \"stars\": 0,\n",
      "  \"contributions\": 14,\n",
      "  \n",
      "  \"popular_repos\": [\n",
      "    {\n",
      "      \"name\": \"TryAndLearn\",\n",
      "      \"language\": \"HTML\"\n",
      "    },\n",
      "    {"
     ]
    },
    {
     "data": {
      "text/plain": [
       "AIMessage(content=' Here is a summary of the key information extracted from the GitHub profile of poojanvig in JSON format:\\n\\n```json\\n{\\n  \"name\": \"Poojan Vig\", \\n  \"username\": \"poojanvig\",\\n  \"url\": \"https://github.com/poojanvig\",\\n  \"bio\": \"I am a highly motivated engineer with a passion for artificial intelligence and data science. I have a strong foundation in math, statistics, and computer science, and am proficient in programming languages such as Python and R. My experience includes working with machine learning algorithms, collecting, cleaning and analyzing data, as well as building and evaluating predictive models. I stay current with the latest advancements in the field by reading research papers and attending conferences and workshops. I am seeking opportunities to apply my skills to real-world problems and continue to develop my knowledge and experience in the field of AI and data science.\",\\n  \"location\": null,\\n  \"followers\": 4,\\n  \"following\": 6,\\n  \"public_repos\": 6,\\n  \"stars\": 0,\\n  \"contributions\": 14,\\n  \\n  \"popular_repos\": [\\n    {\\n      \"name\": \"TryAndLearn\",\\n      \"language\": \"HTML\"\\n    },\\n    {', additional_kwargs={}, example=False)"
      ]
     },
     "execution_count": 18,
     "metadata": {},
     "output_type": "execute_result"
    }
   ],
   "source": [
    "messages = [\n",
    "    HumanMessage(\n",
    "        content=f'You are an expert Github Analyst and experiece in leading top projects and an awesome project manager.Your job is to analyse this github profile : {docs} and extract key contents in json and summarize the most important things in great detail.'\n",
    "    )\n",
    "]\n",
    "chat(messages)"
   ]
  },
  {
   "cell_type": "code",
   "execution_count": 24,
   "metadata": {},
   "outputs": [
    {
     "ename": "ValidationError",
     "evalue": "1 validation error for PromptTemplate\n__root__\n  Invalid prompt schema; check for mismatched or missing input parameters. ' format_instructions' (type=value_error)",
     "output_type": "error",
     "traceback": [
      "\u001b[0;31m---------------------------------------------------------------------------\u001b[0m",
      "\u001b[0;31mValidationError\u001b[0m                           Traceback (most recent call last)",
      "Cell \u001b[0;32mIn[24], line 63\u001b[0m\n\u001b[1;32m     60\u001b[0m \u001b[39m# Set up a parser + inject instructions into the prompt template.\u001b[39;00m\n\u001b[1;32m     61\u001b[0m parser \u001b[39m=\u001b[39m PydanticOutputParser(pydantic_object\u001b[39m=\u001b[39mGithubAgent)\n\u001b[0;32m---> 63\u001b[0m prompt \u001b[39m=\u001b[39m PromptTemplate(\n\u001b[1;32m     64\u001b[0m     template\u001b[39m=\u001b[39;49m\u001b[39m'\u001b[39;49m\u001b[39mYou are an expert Github Analyst and experiece in leading top projects and an awesome project manager.Your job is to analyse this github profile : \u001b[39;49m\u001b[39m{github_profile}\u001b[39;49;00m\u001b[39m and extract key contents in json with \u001b[39;49m\u001b[39m\\n\u001b[39;49;00m\u001b[39m{\u001b[39;49m\u001b[39m format_instructions}\u001b[39;49m\u001b[39m\\n\u001b[39;49;00m\u001b[39m and summarize the most important things in great detail\u001b[39;49m\u001b[39m'\u001b[39;49m,\n\u001b[1;32m     65\u001b[0m     input_variables\u001b[39m=\u001b[39;49m[\u001b[39m\"\u001b[39;49m\u001b[39mgithub_profile\u001b[39;49m\u001b[39m\"\u001b[39;49m],\n\u001b[1;32m     66\u001b[0m     partial_variables\u001b[39m=\u001b[39;49m{\u001b[39m\"\u001b[39;49m\u001b[39mformat_instructions\u001b[39;49m\u001b[39m\"\u001b[39;49m: parser\u001b[39m.\u001b[39;49mget_format_instructions()},\n\u001b[1;32m     67\u001b[0m )\n\u001b[1;32m     69\u001b[0m _input \u001b[39m=\u001b[39m prompt\u001b[39m.\u001b[39mformat_prompt(query\u001b[39m=\u001b[39mprompt)\n\u001b[1;32m     71\u001b[0m output \u001b[39m=\u001b[39m model(_input\u001b[39m.\u001b[39mto_string())\n",
      "File \u001b[0;32m~/Desktop/HRGPT/env/lib/python3.11/site-packages/langchain/load/serializable.py:74\u001b[0m, in \u001b[0;36mSerializable.__init__\u001b[0;34m(self, **kwargs)\u001b[0m\n\u001b[1;32m     73\u001b[0m \u001b[39mdef\u001b[39;00m \u001b[39m__init__\u001b[39m(\u001b[39mself\u001b[39m, \u001b[39m*\u001b[39m\u001b[39m*\u001b[39mkwargs: Any) \u001b[39m-\u001b[39m\u001b[39m>\u001b[39m \u001b[39mNone\u001b[39;00m:\n\u001b[0;32m---> 74\u001b[0m     \u001b[39msuper\u001b[39;49m()\u001b[39m.\u001b[39;49m\u001b[39m__init__\u001b[39;49m(\u001b[39m*\u001b[39;49m\u001b[39m*\u001b[39;49mkwargs)\n\u001b[1;32m     75\u001b[0m     \u001b[39mself\u001b[39m\u001b[39m.\u001b[39m_lc_kwargs \u001b[39m=\u001b[39m kwargs\n",
      "File \u001b[0;32m~/Desktop/HRGPT/env/lib/python3.11/site-packages/pydantic/main.py:341\u001b[0m, in \u001b[0;36mpydantic.main.BaseModel.__init__\u001b[0;34m()\u001b[0m\n",
      "\u001b[0;31mValidationError\u001b[0m: 1 validation error for PromptTemplate\n__root__\n  Invalid prompt schema; check for mismatched or missing input parameters. ' format_instructions' (type=value_error)"
     ]
    }
   ],
   "source": [
    "from langchain.prompts import PromptTemplate, ChatPromptTemplate, HumanMessagePromptTemplate\n",
    "from langchain.llms import OpenAI\n",
    "from langchain.chat_models import ChatOpenAI\n",
    "\n",
    "from langchain.output_parsers import PydanticOutputParser\n",
    "from pydantic import BaseModel, Field, validator\n",
    "from typing import List\n",
    "# Define your desired data structure.\n",
    "from typing import Optional, Dict\n",
    "from pydantic import BaseModel, Field, validator\n",
    "\n",
    "class ContributionsByDay(BaseModel):\n",
    "    busiest_day: str\n",
    "    typical_days: str\n",
    "    no_contributions: str\n",
    "\n",
    "class RepositoriesCreated(BaseModel):\n",
    "    total: int\n",
    "    last_3_months: int\n",
    "    popular_languages: list[str]\n",
    "\n",
    "class PullRequests(BaseModel):\n",
    "    opened_last_3_months: int\n",
    "\n",
    "class Stars(BaseModel):\n",
    "    total: int\n",
    "\n",
    "class Activity(BaseModel):\n",
    "    contributions_last_year: int\n",
    "    contributions_by_day: ContributionsByDay\n",
    "    repositories_created: RepositoriesCreated\n",
    "    pull_requests: PullRequests\n",
    "    stars: Stars\n",
    "\n",
    "class BasicInfo(BaseModel):\n",
    "    name: str\n",
    "    url: str\n",
    "    description: str\n",
    "    location: Optional[str]\n",
    "    company: Optional[str]\n",
    "    followers: int\n",
    "    following: int\n",
    "\n",
    "class GithubAgent(BaseModel):\n",
    "    basic_info: BasicInfo\n",
    "    activity: Activity\n",
    "\n",
    "    @validator(\"basic_info\")\n",
    "    def validate_basic_info(cls, basic_info):\n",
    "        if not basic_info.name or not basic_info.url:\n",
    "            raise ValueError(\"Name and URL are required!\")\n",
    "        return basic_info\n",
    "\n",
    "\n",
    "\n",
    "# And a query intented to prompt a language model to populate the data structure.\n",
    "model = ChatAnthropic(model=\"claude-2\", temperature=0)\n",
    "\n",
    "\n",
    "# Set up a parser + inject instructions into the prompt template.\n",
    "parser = PydanticOutputParser(pydantic_object=GithubAgent)\n",
    "\n",
    "prompt = PromptTemplate(\n",
    "    template=\"You are an expert Github Analyst and experiece in leading top projects and an awesome project manager.Your job is to analyse this github profile : {github_profile} and extract key contents in json with \\n{format_instructions}\\n and summarize the most important things in great detail\",\n",
    "    input_variables=[\"github_profile\"],\n",
    "    partial_variables={\"format_instructions\": parser.get_format_instructions()},\n",
    ")\n",
    "\n",
    "_input = prompt.format_prompt(query=prompt)\n",
    "\n",
    "output = model(_input.to_string())\n",
    "\n",
    "parser.parse(output)"
   ]
  },
  {
   "cell_type": "code",
   "execution_count": null,
   "metadata": {},
   "outputs": [],
   "source": []
  }
 ],
 "metadata": {
  "kernelspec": {
   "display_name": "env",
   "language": "python",
   "name": "python3"
  },
  "language_info": {
   "codemirror_mode": {
    "name": "ipython",
    "version": 3
   },
   "file_extension": ".py",
   "mimetype": "text/x-python",
   "name": "python",
   "nbconvert_exporter": "python",
   "pygments_lexer": "ipython3",
   "version": "3.11.2"
  },
  "orig_nbformat": 4
 },
 "nbformat": 4,
 "nbformat_minor": 2
}

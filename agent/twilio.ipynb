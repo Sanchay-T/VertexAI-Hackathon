{
 "cells": [
  {
   "cell_type": "code",
   "execution_count": 1,
   "metadata": {},
   "outputs": [],
   "source": [
    "import os\n",
    "from dotenv import load_dotenv\n",
    "\n",
    "load_dotenv(\".env\")\n",
    "from langchain.chat_models import ChatOpenAI\n",
    "from langchain.experimental.plan_and_execute import PlanAndExecute, load_agent_executor, load_chat_planner\n",
    "from langchain.llms import OpenAI\n",
    "from langchain.agents.tools import Tool\n",
    "from langchain import LLMMathChain\n",
    "from langchain.prompts import PromptTemplate\n",
    "import json\n",
    "import requests\n",
    "from pydantic import BaseModel\n",
    "\n",
    "api_key = os.getenv(\"OPENAI_API_KEY\")\n",
    "serper_api_key = os.getenv(\"SERP_API_KEY\")\n",
    "os.environ[\"LANGCHAIN_WANDB_TRACING\"] = \"true\"\n",
    "os.environ[\"WANDB_PROJECT\"] = \"Claude\"\n",
    "anthropic_api_key = os.getenv(\"ANTHROPIC_API_KEY\")\n",
    "TWILIO_ACCOUNT_SID = os.getenv(\"TWILIO_ACCOUNT_SID\")\n",
    "TWILIO_AUTH_TOKEN = os.getenv(\"TWILIO_AUTH_TOKEN\")\n",
    "TWILIO_FROM_NUMBER = os.getenv(\"TWILIO_FROM_NUMBER\")"
   ]
  },
  {
   "cell_type": "code",
   "execution_count": 2,
   "metadata": {},
   "outputs": [
    {
     "name": "stdout",
     "output_type": "stream",
     "text": [
      "whatsapp:+14155238886\n"
     ]
    }
   ],
   "source": [
    "print(TWILIO_FROM_NUMBER)"
   ]
  },
  {
   "cell_type": "code",
   "execution_count": 3,
   "metadata": {},
   "outputs": [],
   "source": [
    "from langchain.utilities.twilio import TwilioAPIWrapper\n",
    "\n",
    "twilio = TwilioAPIWrapper()\n"
   ]
  },
  {
   "cell_type": "code",
   "execution_count": null,
   "metadata": {},
   "outputs": [],
   "source": [
    "from twilio.rest import Client\n",
    "\n",
    "def twilio(body):\n",
    "    account_sid = 'AC892f3e7e653e2b4b8f5d03d916c036b5'\n",
    "    auth_token = '6e8ca23b01873d18e1ba3c896fefa531'\n",
    "    client = Client(account_sid, auth_token)\n",
    "\n",
    "    message = client.messages.create(\n",
    "    from_='whatsapp:+14155238886',\n",
    "    body=body,\n",
    "    to='whatsapp:+919167989179'\n",
    "    )\n",
    "\n",
    "    return message.sid"
   ]
  },
  {
   "cell_type": "code",
   "execution_count": 4,
   "metadata": {},
   "outputs": [
    {
     "data": {
      "text/plain": [
       "'SM1b1fc896f6d256e281dc318f125927ad'"
      ]
     },
     "execution_count": 4,
     "metadata": {},
     "output_type": "execute_result"
    }
   ],
   "source": [
    "\n",
    "twilio.run(\"hello world\", \"whatsapp:+919136820958\")"
   ]
  },
  {
   "cell_type": "code",
   "execution_count": null,
   "metadata": {},
   "outputs": [],
   "source": []
  }
 ],
 "metadata": {
  "kernelspec": {
   "display_name": "env",
   "language": "python",
   "name": "python3"
  },
  "language_info": {
   "codemirror_mode": {
    "name": "ipython",
    "version": 3
   },
   "file_extension": ".py",
   "mimetype": "text/x-python",
   "name": "python",
   "nbconvert_exporter": "python",
   "pygments_lexer": "ipython3",
   "version": "3.11.2"
  },
  "orig_nbformat": 4
 },
 "nbformat": 4,
 "nbformat_minor": 2
}

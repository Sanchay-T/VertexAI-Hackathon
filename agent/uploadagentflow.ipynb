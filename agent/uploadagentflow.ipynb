{
 "cells": [
  {
   "cell_type": "code",
   "execution_count": 52,
   "metadata": {},
   "outputs": [],
   "source": [
    "from langchain.chat_models import ChatOpenAI\n",
    "from langchain.chains import create_extraction_chain, create_extraction_chain_pydantic\n",
    "from langchain.prompts import ChatPromptTemplate"
   ]
  },
  {
   "cell_type": "code",
   "execution_count": 53,
   "metadata": {},
   "outputs": [
    {
     "data": {
      "text/plain": [
       "'Education\\nShah and anchor kutchhi\\nengineering collegeCGPA : 8.82Bachelor of Engineering\\n (Artificial intelligence and data\\nscience )Poojan Vig\\nEnthusiastic and driven Data Science Engineer with a year of experience in\\nfintech companies, specializing in AI and machine learning. Recognized for\\nwinning two AI-based hackathons within a six-month period, showcasing a\\nstrong ability to develop and implement creative solutions to complex\\nproblems. Developed notable projects in areas including AI framing, pose\\ndetection, parking, and image classification, demonstrating advanced\\nproficiency in Python, TensorFlow, sklearn, and SQL. Showcased a strong\\ninterest and focus in Reinforcement Learning and Generative AI. Aiming to\\nleverage my skills and passion for data science to solve challenging problems\\nand make significant contributions as a Data Scientist.\\nLinked_inContact\\n+91 9167989179Phone\\npoojanvig.pv@gmail.comEmail IdMumbai, Maharashtra-400074Address:\\nhttps://www.linkedin.com/in/poojan-\\nvig/Technical Skills:\\n Programming Languages: Python, R, Java, C, SQL\\nMachine Learning Libraries: scikit-learn, TensorFlow\\nData Visualization Tools: Matplotlib, Seaborn, ggplot,\\nTableau,Power BI\\nDatabases: MySQL\\nCloud Platforms: Microsoft Azure\\nData Science Specific Skills:\\nStatistical Analysis: Proficient in utilizing statistical methodologies\\nfor analyzing and interpreting complex datasets, including\\nregression analysis, hypothesis testing, and statistical inference.\\nMachine Learning: Extensive experience in applying Supervised and\\nUnsupervised learning, Reinforcement learning algorithms to large\\ndatasets. Skilled in implementing Natural Language Processing\\ntechniques and building Neural Networks for complex prediction\\ntasks.\\nData Wrangling: Demonstrated ability in cleaning, validating, and\\ntransforming raw data into a structured format for analysis.\\nProficient in handling missing data, outliers, and inconsistencies to\\nensure the integrity and reliability of data.\\nData Exploration/Analysis: Proficient in exploring and analyzing\\nlarge datasets to extract insights and identify patterns. Skilled in\\nusing data visualization tools to present findings and effectively\\ncommunicate data-driven insights to technical and non-technical\\nstakeholders.\\nSoft Skills:\\nProblem-solving\\nCommunication\\nTeamwork\\nCritical ThinkingProceeding Skills\\nMicrosoft Ai fundamentalsAdvance DBMSTensorflow developer certificate\\nEnglish\\nHindi\\nPunjabi\\nMarathi Languages'"
      ]
     },
     "execution_count": 53,
     "metadata": {},
     "output_type": "execute_result"
    }
   ],
   "source": [
    "from langchain.document_loaders import PyPDFLoader\n",
    "\n",
    "\n",
    "loader = PyPDFLoader(\"../new_pdf/Poojan_vig resume.pdf\")\n",
    "final = loader.load()\n",
    "resume = final[0].page_content\n",
    "resume"
   ]
  },
  {
   "cell_type": "code",
   "execution_count": 54,
   "metadata": {},
   "outputs": [],
   "source": [
    "from typing import Optional, List\n",
    "from pydantic import BaseModel, Field\n",
    "\n",
    "class Applicant(BaseModel):\n",
    "    Name: str\n",
    "    Contact: str\n",
    "    Location: str\n",
    "    University: str\n",
    "    Degree: str\n",
    "    Major: str\n",
    "    Graduation_Year: int\n",
    "    Skills: list[str]\n",
    "    Certifications: Optional[list[str]]\n",
    "    Languages: Optional[list[str]]\n",
    "    Role: str\n",
    "    Company: str\n",
    "    Start_Date: str\n",
    "    End_Date: str\n",
    "    Experience: int\n",
    "    Responsibilities: list[str]\n",
    "    Achievements: Optional[list[str]]\n",
    "    Projects: Optional[list[str]]\n",
    "    LinkedIn_Url: Optional[str]\n",
    "    Github_Url: Optional[str]\n",
    "    Hobbies: Optional[list[str]]"
   ]
  },
  {
   "cell_type": "code",
   "execution_count": 55,
   "metadata": {},
   "outputs": [],
   "source": [
    "from langchain.output_parsers import PydanticOutputParser\n",
    "from pydantic import BaseModel, Field, validator\n",
    "from typing import List"
   ]
  },
  {
   "cell_type": "code",
   "execution_count": 56,
   "metadata": {},
   "outputs": [],
   "source": [
    "llm = ChatOpenAI(temperature=0.0)"
   ]
  },
  {
   "cell_type": "code",
   "execution_count": 57,
   "metadata": {},
   "outputs": [],
   "source": [
    "# Set up a parser + inject instructions into the prompt template.\n",
    "pydantic_parser = PydanticOutputParser(pydantic_object=Applicant)\n",
    "\n",
    "format_instructions = pydantic_parser.get_format_instructions()"
   ]
  },
  {
   "cell_type": "code",
   "execution_count": 58,
   "metadata": {},
   "outputs": [],
   "source": [
    "template_string = \"\"\" You are a professional HR that and inforomation extractor that can analye the resume of the person and extract the contents as given in the instructions below\n",
    "\n",
    "Resume: ```{resume}```\n",
    "\n",
    "{format_instructions}\n",
    "\"\"\""
   ]
  },
  {
   "cell_type": "code",
   "execution_count": 59,
   "metadata": {},
   "outputs": [],
   "source": [
    "prompt = ChatPromptTemplate.from_template(template=template_string)\n",
    "\n",
    "messages = prompt.format_messages(resume =resume, \n",
    "                                format_instructions=format_instructions)"
   ]
  },
  {
   "cell_type": "code",
   "execution_count": 60,
   "metadata": {},
   "outputs": [
    {
     "data": {
      "text/plain": [
       "AIMessage(content='{\\n  \"Name\": \"Poojan Vig\",\\n  \"Contact\": \"+91 9167989179\",\\n  \"Location\": \"Mumbai, Maharashtra-400074\",\\n  \"University\": \"Shah and Anchor Kutchhi Engineering College\",\\n  \"Degree\": \"Bachelor of Engineering\",\\n  \"Major\": \"Artificial Intelligence and Data Science\",\\n  \"Graduation_Year\": 0,\\n  \"Skills\": [\\n    \"Python\",\\n    \"R\",\\n    \"Java\",\\n    \"C\",\\n    \"SQL\",\\n    \"scikit-learn\",\\n    \"TensorFlow\",\\n    \"Matplotlib\",\\n    \"Seaborn\",\\n    \"ggplot\",\\n    \"Tableau\",\\n    \"Power BI\",\\n    \"MySQL\",\\n    \"Microsoft Azure\",\\n    \"Statistical Analysis\",\\n    \"Machine Learning\",\\n    \"Data Wrangling\",\\n    \"Data Exploration/Analysis\",\\n    \"Problem-solving\",\\n    \"Communication\",\\n    \"Teamwork\",\\n    \"Critical Thinking\"\\n  ],\\n  \"Certifications\": [\\n    \"Microsoft AI Fundamentals\",\\n    \"Advance DBMS\",\\n    \"TensorFlow Developer Certificate\"\\n  ],\\n  \"Languages\": [\\n    \"English\",\\n    \"Hindi\",\\n    \"Punjabi\",\\n    \"Marathi\"\\n  ],\\n  \"Role\": \"Data Science Engineer\",\\n  \"Company\": \"\",\\n  \"Start_Date\": \"\",\\n  \"End_Date\": \"\",\\n  \"Experience\": 1,\\n  \"Responsibilities\": [],\\n  \"Achievements\": [\\n    \"Won two AI-based hackathons within a six-month period\"\\n  ],\\n  \"Projects\": [\\n    \"AI framing\",\\n    \"Pose detection\",\\n    \"Parking\",\\n    \"Image classification\"\\n  ],\\n  \"LinkedIn_Url\": \"https://www.linkedin.com/in/poojan-vig/\",\\n  \"Github_Url\": \"\",\\n  \"Hobbies\": []\\n}', additional_kwargs={}, example=False)"
      ]
     },
     "execution_count": 60,
     "metadata": {},
     "output_type": "execute_result"
    }
   ],
   "source": [
    "output = llm(messages)\n",
    "output"
   ]
  },
  {
   "cell_type": "code",
   "execution_count": 61,
   "metadata": {},
   "outputs": [],
   "source": [
    "# Markdown(output.content)"
   ]
  },
  {
   "cell_type": "code",
   "execution_count": 62,
   "metadata": {},
   "outputs": [],
   "source": [
    "the_brand = pydantic_parser.parse(output.content)\n",
    "\n"
   ]
  },
  {
   "cell_type": "code",
   "execution_count": 63,
   "metadata": {},
   "outputs": [
    {
     "data": {
      "text/plain": [
       "dict"
      ]
     },
     "execution_count": 63,
     "metadata": {},
     "output_type": "execute_result"
    }
   ],
   "source": [
    "output.content\n",
    "type(json.loads(output.content))"
   ]
  },
  {
   "cell_type": "code",
   "execution_count": 64,
   "metadata": {},
   "outputs": [
    {
     "data": {
      "text/plain": [
       "Applicant(Name='Poojan Vig', Contact='+91 9167989179', Location='Mumbai, Maharashtra-400074', University='Shah and Anchor Kutchhi Engineering College', Degree='Bachelor of Engineering', Major='Artificial Intelligence and Data Science', Graduation_Year=0, Skills=['Python', 'R', 'Java', 'C', 'SQL', 'scikit-learn', 'TensorFlow', 'Matplotlib', 'Seaborn', 'ggplot', 'Tableau', 'Power BI', 'MySQL', 'Microsoft Azure', 'Statistical Analysis', 'Machine Learning', 'Data Wrangling', 'Data Exploration/Analysis', 'Problem-solving', 'Communication', 'Teamwork', 'Critical Thinking'], Certifications=['Microsoft AI Fundamentals', 'Advance DBMS', 'TensorFlow Developer Certificate'], Languages=['English', 'Hindi', 'Punjabi', 'Marathi'], Role='Data Science Engineer', Company='', Start_Date='', End_Date='', Experience=1, Responsibilities=[], Achievements=['Won two AI-based hackathons within a six-month period'], Projects=['AI framing', 'Pose detection', 'Parking', 'Image classification'], LinkedIn_Url='https://www.linkedin.com/in/poojan-vig/', Github_Url='', Hobbies=[])"
      ]
     },
     "execution_count": 64,
     "metadata": {},
     "output_type": "execute_result"
    }
   ],
   "source": [
    "the_brand"
   ]
  },
  {
   "cell_type": "code",
   "execution_count": 65,
   "metadata": {},
   "outputs": [],
   "source": [
    "import os\n",
    "from dotenv import load_dotenv\n",
    "\n",
    "load_dotenv(\"../.env\")\n",
    "from langchain.chat_models import ChatOpenAI\n",
    "from langchain.experimental.plan_and_execute import PlanAndExecute, load_agent_executor, load_chat_planner\n",
    "from langchain.llms import OpenAI\n",
    "from langchain.agents.tools import Tool\n",
    "from langchain import LLMMathChain\n",
    "from langchain.prompts import PromptTemplate\n",
    "\n",
    "import json\n",
    "import requests\n",
    "# \n",
    "api_key = os.getenv(\"OPENAI_API_KEY\")\n",
    "# serper_api_key = os.getenv(\"SERP_API_KEY\")\n",
    "# os.environ[\"LANGCHAIN_WANDB_TRACING\"] = \"true\"\n",
    "# os.environ[\"WANDB_PROJECT\"] = \"llmapps\""
   ]
  }
 ],
 "metadata": {
  "kernelspec": {
   "display_name": "env",
   "language": "python",
   "name": "python3"
  },
  "language_info": {
   "codemirror_mode": {
    "name": "ipython",
    "version": 3
   },
   "file_extension": ".py",
   "mimetype": "text/x-python",
   "name": "python",
   "nbconvert_exporter": "python",
   "pygments_lexer": "ipython3",
   "version": "3.10.9"
  },
  "orig_nbformat": 4
 },
 "nbformat": 4,
 "nbformat_minor": 2
}

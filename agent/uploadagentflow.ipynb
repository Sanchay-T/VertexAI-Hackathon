{
 "cells": [
  {
   "cell_type": "code",
   "execution_count": 41,
   "metadata": {},
   "outputs": [],
   "source": [
    "import os\n",
    "from dotenv import load_dotenv\n",
    "\n",
    "load_dotenv(\"../.env\")\n",
    "from langchain.chat_models import ChatOpenAI\n",
    "from langchain.experimental.plan_and_execute import PlanAndExecute, load_agent_executor, load_chat_planner\n",
    "from langchain.llms import OpenAI\n",
    "from langchain.agents.tools import Tool\n",
    "from langchain import LLMMathChain\n",
    "from langchain.prompts import PromptTemplate\n",
    "import json\n",
    "import requests\n",
    "\n",
    "api_key = os.getenv(\"OPENAI_API_KEY\")\n",
    "serper_api_key = os.getenv(\"SERP_API_KEY\")\n",
    "# os.environ[\"LANGCHAIN_WANDB_TRACING\"] = \"true\"\n",
    "# os.environ[\"WANDB_PROJECT\"] = \"llmapps\""
   ]
  },
  {
   "cell_type": "code",
   "execution_count": 11,
   "metadata": {},
   "outputs": [],
   "source": [
    "from langchain.chat_models import ChatOpenAI\n",
    "from langchain.chains import create_extraction_chain, create_extraction_chain_pydantic\n",
    "from langchain.prompts import ChatPromptTemplate"
   ]
  },
  {
   "cell_type": "code",
   "execution_count": 10,
   "metadata": {},
   "outputs": [
    {
     "data": {
      "text/plain": [
       "'ROBIN GRAHAM\\nSOFTWARE DEVELOPERrobin.graham@gmail.com\\n202-555-0101\\nPasadena, CA, US\\nlinkedin.com/in/robin\\nSUMMARY Working in tech companies since 2013, I succeed to grow my programming skills in\\ndifferent areas. I participate in projects which developing applications for Windows,\\nAndroid, Web, and firmware for hardware devices also.\\nMy practical experience is with C and C++ languages and I am motivated to mastering\\nthose skills and to enrich my knowledge with a new one.\\nSKILLS AND\\nTECHNOLOGIESC / C++\\nHMTL, CSS, Javascript, PHP, MySQL\\nJava, XML\\nSVN, Mercurial\\nIAR, Eclipse, Embarcadero RAD Studio XE5, Android Studio\\nJSON, XML\\nEXPERIENCE\\nOpenXcell, NY Sep 2016 -PresentEmbedded Software Engineer\\nDevelop and support device firmware\\nImplementing new features\\nRe-writing a radio protocol using for communication between devices\\nImplement web sockets communication encrypted by SSL\\nSyberry Corporation, CA Oct 2015 -Sep 2016Software Engineer\\nWrite a drive for a RTC module\\nWrite a universal module for inhibition a functionalities depending on some cases\\nRun a unit test via Tessy\\nWriting a C code following MISRA and verify it with QA-C\\nBelatrix Software, LA Oct 2013 -Oct 2015UI Software Developer\\nDevelop a Windows applications in C++ using RAD Studio\\nDevelop a web application for one of the Windows applications to read or set up the\\nGPS device from distance\\nPromatics Technologies, Chicago Jul 2011 -Feb 2012Software Support and Development\\nDesing a user menus for set-top-box devices for digital TV\\nTesting and fixing software faults\\nImplementing new features\\nEDUCATION\\nJohns Hopkins University, Baltimore, MD Sep 2013 -Sep 2015Master of Computer Systems and Technologies\\nNorthwestern University, Evanston, IL Sep 2009 -Sep 2013Bachelor of Computer Systems and Technologies\\nLANGUAGES English\\nBulgarianFrench\\nwww.resumekraft.com'"
      ]
     },
     "execution_count": 10,
     "metadata": {},
     "output_type": "execute_result"
    }
   ],
   "source": [
    "from langchain.document_loaders import PyPDFLoader\n",
    "\n",
    "\n",
    "loader = PyPDFLoader(\"../new_pdf/Software Developer.pdf\")\n",
    "final = loader.load()\n",
    "resume = final[0].page_content\n",
    "resume"
   ]
  },
  {
   "cell_type": "code",
   "execution_count": 13,
   "metadata": {},
   "outputs": [],
   "source": [
    "from typing import Optional, List\n",
    "from pydantic import BaseModel, Field\n",
    "\n",
    "class Applicant(BaseModel):\n",
    "    Name: str\n",
    "    Contact: str\n",
    "    Location: str\n",
    "    University: str\n",
    "    Degree: str\n",
    "    Major: str\n",
    "    Graduation_Year: int\n",
    "    Skills: list[str]\n",
    "    Certifications: Optional[list[str]]\n",
    "    Languages: Optional[list[str]]\n",
    "    Role: str\n",
    "    Company: str\n",
    "    Start_Date: str\n",
    "    End_Date: str\n",
    "    Experience: int\n",
    "    Responsibilities: list[str]\n",
    "    Achievements: Optional[list[str]]\n",
    "    Projects: Optional[list[str]]\n",
    "    Hobbies: Optional[list[str]]"
   ]
  },
  {
   "cell_type": "code",
   "execution_count": 63,
   "metadata": {},
   "outputs": [],
   "source": [
    "from langchain.output_parsers import PydanticOutputParser\n",
    "from pydantic import BaseModel, Field, validator\n",
    "from typing import List"
   ]
  },
  {
   "cell_type": "code",
   "execution_count": 64,
   "metadata": {},
   "outputs": [],
   "source": [
    "llm = ChatOpenAI(temperature=0.0)"
   ]
  },
  {
   "cell_type": "code",
   "execution_count": 65,
   "metadata": {},
   "outputs": [],
   "source": [
    "# Set up a parser + inject instructions into the prompt template.\n",
    "pydantic_parser = PydanticOutputParser(pydantic_object=Applicant)\n",
    "\n",
    "format_instructions = pydantic_parser.get_format_instructions()"
   ]
  },
  {
   "cell_type": "code",
   "execution_count": 66,
   "metadata": {},
   "outputs": [],
   "source": [
    "template_string = \"\"\" You are a professional HR that and inforomation extractor that can analye the resume of the person and extract the contents as given in the instructions below\n",
    "\n",
    "Resume: ```{resume}```\n",
    "\n",
    "{format_instructions}\n",
    "\"\"\""
   ]
  },
  {
   "cell_type": "code",
   "execution_count": 67,
   "metadata": {},
   "outputs": [],
   "source": [
    "prompt = ChatPromptTemplate.from_template(template=template_string)\n",
    "\n",
    "messages = prompt.format_messages(resume =resume, \n",
    "                                format_instructions=format_instructions)"
   ]
  },
  {
   "cell_type": "code",
   "execution_count": 74,
   "metadata": {},
   "outputs": [],
   "source": [
    "output = llm(messages)"
   ]
  },
  {
   "cell_type": "code",
   "execution_count": 84,
   "metadata": {},
   "outputs": [
    {
     "data": {
      "text/markdown": [
       "{\n",
       "  \"Name\": \"ROBIN GRAHAM\",\n",
       "  \"Contact\": \"robin.graham@gmail.com\",\n",
       "  \"Location\": \"Pasadena, CA, US\",\n",
       "  \"University\": \"Johns Hopkins University\",\n",
       "  \"Degree\": \"Master of Computer Systems and Technologies\",\n",
       "  \"Major\": \"Computer Systems and Technologies\",\n",
       "  \"Graduation_Year\": 2015,\n",
       "  \"Skills\": [\n",
       "    \"C / C++\",\n",
       "    \"HMTL, CSS, Javascript, PHP, MySQL\",\n",
       "    \"Java, XML\",\n",
       "    \"SVN, Mercurial\",\n",
       "    \"IAR, Eclipse, Embarcadero RAD Studio XE5, Android Studio\",\n",
       "    \"JSON, XML\"\n",
       "  ],\n",
       "  \"Certifications\": [],\n",
       "  \"Languages\": [\n",
       "    \"English\",\n",
       "    \"Bulgarian\",\n",
       "    \"French\"\n",
       "  ],\n",
       "  \"Role\": \"Embedded Software Engineer\",\n",
       "  \"Company\": \"OpenXcell\",\n",
       "  \"Start_Date\": \"Sep 2016\",\n",
       "  \"End_Date\": \"Present\",\n",
       "  \"Experience\": 4,\n",
       "  \"Responsibilities\": [\n",
       "    \"Develop and support device firmware\",\n",
       "    \"Implementing new features\",\n",
       "    \"Re-writing a radio protocol using for communication between devices\",\n",
       "    \"Implement web sockets communication encrypted by SSL\"\n",
       "  ],\n",
       "  \"Achievements\": [],\n",
       "  \"Projects\": [],\n",
       "  \"Hobbies\": []\n",
       "}"
      ],
      "text/plain": [
       "<IPython.core.display.Markdown object>"
      ]
     },
     "execution_count": 84,
     "metadata": {},
     "output_type": "execute_result"
    }
   ],
   "source": [
    "Markdown(output.content)"
   ]
  },
  {
   "cell_type": "code",
   "execution_count": 83,
   "metadata": {},
   "outputs": [
    {
     "data": {
      "text/plain": [
       "'ROBIN GRAHAM'"
      ]
     },
     "execution_count": 83,
     "metadata": {},
     "output_type": "execute_result"
    }
   ],
   "source": [
    "the_brand = pydantic_parser.parse(output.content)\n",
    "\n"
   ]
  },
  {
   "cell_type": "code",
   "execution_count": 85,
   "metadata": {},
   "outputs": [
    {
     "data": {
      "text/plain": [
       "str"
      ]
     },
     "execution_count": 85,
     "metadata": {},
     "output_type": "execute_result"
    }
   ],
   "source": [
    "type(output.content)"
   ]
  },
  {
   "cell_type": "code",
   "execution_count": null,
   "metadata": {},
   "outputs": [],
   "source": []
  }
 ],
 "metadata": {
  "kernelspec": {
   "display_name": "env",
   "language": "python",
   "name": "python3"
  },
  "language_info": {
   "codemirror_mode": {
    "name": "ipython",
    "version": 3
   },
   "file_extension": ".py",
   "mimetype": "text/x-python",
   "name": "python",
   "nbconvert_exporter": "python",
   "pygments_lexer": "ipython3",
   "version": "3.11.2"
  },
  "orig_nbformat": 4
 },
 "nbformat": 4,
 "nbformat_minor": 2
}

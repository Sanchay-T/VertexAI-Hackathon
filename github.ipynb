{
 "cells": [
  {
   "cell_type": "code",
   "execution_count": 20,
   "metadata": {
    "collapsed": true,
    "ExecuteTime": {
     "end_time": "2023-07-23T13:17:20.062642700Z",
     "start_time": "2023-07-23T13:17:20.057656300Z"
    }
   },
   "outputs": [],
   "source": [
    "import requests\n",
    "import base64\n",
    "import json"
   ]
  },
  {
   "cell_type": "code",
   "execution_count": 21,
   "outputs": [
    {
     "name": "stdout",
     "output_type": "stream",
     "text": [
      "Repo: E-commerce, Languages: {'CSS': 871920, 'JavaScript': 787374, 'PHP': 197376, 'HTML': 37398, 'Hack': 14086}\n",
      "Repo: Sales-Inventory-Management, Languages: {'Java': 51396}\n",
      "Repo: Cancer_Prediction, Languages: {'HTML': 3405147, 'Jupyter Notebook': 2786752}\n",
      "Repo: Facial-Recognition, Languages: {'Python': 3809}\n",
      "Repo: StockPrice_Prediction, Languages: {'Jupyter Notebook': 749640}\n"
     ]
    }
   ],
   "source": [
    "def get_pinned_repos(username, token):\n",
    "    url = \"https://api.github.com/graphql\"\n",
    "    headers = {\"Authorization\": f\"Bearer {token}\"}\n",
    "    query = \"\"\"\n",
    "    query {\n",
    "      user(login: \"%s\") {\n",
    "        pinnedItems(first: 6, types: [REPOSITORY]) {\n",
    "          edges {\n",
    "            node {\n",
    "              ... on Repository {\n",
    "                name\n",
    "              }\n",
    "            }\n",
    "          }\n",
    "        }\n",
    "      }\n",
    "    }\n",
    "    \"\"\" % username\n",
    "    response = requests.post(url, headers=headers, json={'query': query})\n",
    "\n",
    "    if response.status_code == 200:\n",
    "        data = response.json()\n",
    "        repo_names = [edge['node']['name'] for edge in data['data']['user']['pinnedItems']['edges']]\n",
    "        return repo_names\n",
    "    else:\n",
    "        return f\"Failed to get repos, status code: {response.status_code}\"\n",
    "\n",
    "def get_repo_languages(username, repo):\n",
    "    url = f\"https://api.github.com/repos/{username}/{repo}/languages\"\n",
    "    response = requests.get(url)\n",
    "\n",
    "    if response.status_code == 200:\n",
    "        return response.json()\n",
    "    else:\n",
    "        return f\"Failed to get languages, status code: {response.status_code}\"\n",
    "\n",
    "def get_languages_for_repos(username, repos):\n",
    "    languages_for_repos = {}\n",
    "    for repo in repos:\n",
    "        languages = get_repo_languages(username, repo)\n",
    "        languages_for_repos[repo] = languages\n",
    "    return languages_for_repos\n",
    "\n",
    "# Fetch pinned repos\n",
    "pinned_repo_names = get_pinned_repos(\"Sanchay-T\", \"\")\n",
    "\n",
    "# Get languages for each repo\n",
    "languages_in_repos = get_languages_for_repos(\"Sanchay-T\", pinned_repo_names)\n",
    "\n",
    "# Print the languages for each repo\n",
    "for repo, languages in languages_in_repos.items():\n",
    "    print(f\"Repo: {repo}, Languages: {languages}\")\n",
    "data_str = \"\"\n",
    "for repo, languages in languages_in_repos.items():\n",
    "    data_str += f\"Repository {repo} uses the following languages: {', '.join(languages.keys())}.\\n\"\n"
   ],
   "metadata": {
    "collapsed": false,
    "ExecuteTime": {
     "end_time": "2023-07-23T13:17:40.446051600Z",
     "start_time": "2023-07-23T13:17:38.559257Z"
    }
   }
  },
  {
   "cell_type": "code",
   "execution_count": 22,
   "outputs": [
    {
     "name": "stdout",
     "output_type": "stream",
     "text": [
      "The primary programming language used across all repositories is Python. This indicates that the user has strong programming skills in Python, as well as familiarity with HTML, Jupyter Notebook, JavaScript, PHP, Hack, and Java.\n"
     ]
    }
   ],
   "source": [
    "import openai\n",
    "\n",
    "openai.api_key = ''\n",
    "prompt = f\"\"\"\n",
    "{data_str}\n",
    "\n",
    "For each repository, identify the primary programming language used. Determine which languages are most common across all repositories. Based on the most frequently used language, infer the primary programming skills of the user.\n",
    "\"\"\"\n",
    "\n",
    "response = openai.Completion.create(\n",
    "  engine=\"text-davinci-003\",\n",
    "  prompt=prompt,\n",
    "  temperature=0.3,\n",
    "  max_tokens=300\n",
    ")\n",
    "\n",
    "print(response.choices[0].text.strip())\n"
   ],
   "metadata": {
    "collapsed": false,
    "ExecuteTime": {
     "end_time": "2023-07-23T13:17:57.793358700Z",
     "start_time": "2023-07-23T13:17:55.086372300Z"
    }
   }
  },
  {
   "cell_type": "code",
   "execution_count": null,
   "outputs": [],
   "source": [],
   "metadata": {
    "collapsed": false
   }
  }
 ],
 "metadata": {
  "kernelspec": {
   "display_name": "Python 3",
   "language": "python",
   "name": "python3"
  },
  "language_info": {
   "codemirror_mode": {
    "name": "ipython",
    "version": 2
   },
   "file_extension": ".py",
   "mimetype": "text/x-python",
   "name": "python",
   "nbconvert_exporter": "python",
   "pygments_lexer": "ipython2",
   "version": "2.7.6"
  }
 },
 "nbformat": 4,
 "nbformat_minor": 0
}

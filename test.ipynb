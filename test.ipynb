{
 "cells": [
  {
   "cell_type": "code",
   "execution_count": 10,
   "metadata": {},
   "outputs": [],
   "source": [
    "import os\n",
    "from langchain.document_loaders import DirectoryLoader\n",
    "from langchain.llms import VertexAI\n",
    "from langchain import LLMChain\n",
    "from langchain.document_loaders import DirectoryLoader , PyPDFLoader\n",
    "from langchain.text_splitter import RecursiveCharacterTextSplitter\n",
    "from IPython.core.display import Markdown\n",
    "from langchain.embeddings import VertexAIEmbeddings\n",
    "from langchain.vectorstores import Chroma\n",
    "from langchain.prompts import PromptTemplate\n",
    "\n",
    "\n",
    "# os.environ[\"LANGCHAIN_WANDB_TRACING\"] = \"true\"\n",
    "# os.environ[\"WANDB_PROJECT\"] = \"langchain-tracing\"\n",
    "os.environ['GOOGLE_APPLICATION_CREDENTIALS'] = 'ghc-001-7755ed5582db.json'\n"
   ]
  },
  {
   "cell_type": "code",
   "execution_count": 29,
   "metadata": {},
   "outputs": [],
   "source": [
    "prompt_template = \"\"\"\n",
    "In this task, you'll be analyzing the resume of a job candidate. Your objective is to extract key information from all the resume of these people\n",
    "\n",
    "Here is candidate's resume:\n",
    "\n",
    "***\n",
    "\n",
    "{resume}\n",
    "\n",
    "***\n",
    "\n",
    "Your task is to carefully read through the resume and below given information about the candidate. \n",
    "\n",
    "For example, if you're examining the resume of a software engineer named John Doe, your output might look like this in JSON format:\n",
    "The JSON should include the following fields:\n",
    "\n",
    "    \\\"Name\\\": \\\"John Doe\\\",\n",
    "    \\\"Summary\\\": \\\"Software Engineer with 10 years of experience in developing scalable web applications. Proficient in Java, Python, C++.\\\",\n",
    "    \\\"Work Experience\\\": \\\"Google Search, Facebook Ads, Uber\\\",\n",
    "    \\\"Years Of Experience\\\": \\\"10 years\\\",\n",
    "    \\\"Skills\\\": [\\\"Java\\\", \\\"Python\\\", \\\"C++\\\"],\n",
    "    \\\"Projects\\\": [\\\"Google Search\\\", \\\"Facebook Ads\\\", \\\"Uber\\\"],\n",
    "    \\\"Education\\\": \\\"Stanford University\\\",\n",
    "    \\\"Certifications\\\": [\\\"AWS Certified Solutions Architect - Associate\\\", \\\"Google Cloud Certified Professional Cloud Architect\\\"],\n",
    "    \\\"Awards and Achievements\\\": [\\\"Google Founders\\' Award\\\", \\\"ACM Grace Hopper Award\\\"]\n",
    "\n",
    "\n",
    "When you encounter a category for which the resume provides no information, please use None as the value.\n",
    "\n",
    "The quality of your work will be assessed based on:\n",
    "\n",
    "The completeness and accuracy of the information you extract from the resume.\n",
    "The relevance of the extracted information to the job posting.\n",
    "The correctness of the JSON format in your output.\n",
    "Now, here's your question:\n",
    "\n",
    "\n",
    "When you've completed your analysis, please provide the extracted details in JSON format.\n",
    "\"\"\""
   ]
  },
  {
   "cell_type": "code",
   "execution_count": 30,
   "metadata": {},
   "outputs": [],
   "source": [
    "loader1 = PyPDFLoader('media/resumes/Vienna-Modern-Resume-Template.pdf')\n",
    "pages = loader1.load()\n",
    "\n",
    "# Get the content of the resume\n",
    "resume = pages[0].page_content\n"
   ]
  },
  {
   "cell_type": "code",
   "execution_count": 31,
   "metadata": {},
   "outputs": [
    {
     "data": {
      "text/plain": [
       "465"
      ]
     },
     "execution_count": 31,
     "metadata": {},
     "output_type": "execute_result"
    }
   ],
   "source": [
    "promp_analysis_table  = PromptTemplate(template=prompt_template, input_variables=[\"resume\"])\n",
    "# Set up the language model\n",
    "llm = VertexAI(model_name=\"text-bison@001\") # select the model\n",
    "llm_chain = LLMChain(prompt=promp_analysis_table, llm=llm)\n",
    "output = llm_chain.run(resume = resume)\n",
    "len(output)"
   ]
  },
  {
   "cell_type": "code",
   "execution_count": 27,
   "metadata": {},
   "outputs": [
    {
     "ename": "NameError",
     "evalue": "name 'docs' is not defined",
     "output_type": "error",
     "traceback": [
      "\u001b[0;31m---------------------------------------------------------------------------\u001b[0m",
      "\u001b[0;31mNameError\u001b[0m                                 Traceback (most recent call last)",
      "Cell \u001b[0;32mIn[27], line 2\u001b[0m\n\u001b[1;32m      1\u001b[0m splitter \u001b[39m=\u001b[39m RecursiveCharacterTextSplitter(chunk_size\u001b[39m=\u001b[39m\u001b[39m1400\u001b[39m, chunk_overlap\u001b[39m=\u001b[39m\u001b[39m100\u001b[39m)\n\u001b[0;32m----> 2\u001b[0m document_section \u001b[39m=\u001b[39m splitter\u001b[39m.\u001b[39msplit_documents(docs)\n",
      "\u001b[0;31mNameError\u001b[0m: name 'docs' is not defined"
     ]
    }
   ],
   "source": [
    "splitter = RecursiveCharacterTextSplitter(chunk_size=1400, chunk_overlap=100)\n",
    "document_section = splitter.split_documents(docs)"
   ]
  },
  {
   "cell_type": "code",
   "execution_count": 33,
   "metadata": {},
   "outputs": [
    {
     "data": {
      "text/markdown": [
       "{\n",
       "  \"Name\": \"Janine Nel\",\n",
       "  \"Summary\": \"Deadline- focused Sales Engineer with six years experience in technical sales, contributing to the 30% growth of income for regional technology solutions provider over five states, producing and assisting long-term contracts with Fortune 500 clients, and growing Territory sixfold up to $350M.\",\n",
       "  \"Work Experience\": [\n",
       "    {\n",
       "      \"Company\": \"Engen Oil\",\n",
       "      \"Position\": \"Sales Engineer\",\n",
       "      \"Dates\": \"May 2022 — May 202"
      ],
      "text/plain": [
       "<IPython.core.display.Markdown object>"
      ]
     },
     "execution_count": 33,
     "metadata": {},
     "output_type": "execute_result"
    }
   ],
   "source": [
    "Markdown(output)"
   ]
  },
  {
   "cell_type": "code",
   "execution_count": null,
   "metadata": {},
   "outputs": [],
   "source": []
  }
 ],
 "metadata": {
  "kernelspec": {
   "display_name": "env",
   "language": "python",
   "name": "python3"
  },
  "language_info": {
   "codemirror_mode": {
    "name": "ipython",
    "version": 3
   },
   "file_extension": ".py",
   "mimetype": "text/x-python",
   "name": "python",
   "nbconvert_exporter": "python",
   "pygments_lexer": "ipython3",
   "version": "3.11.2"
  },
  "orig_nbformat": 4
 },
 "nbformat": 4,
 "nbformat_minor": 2
}

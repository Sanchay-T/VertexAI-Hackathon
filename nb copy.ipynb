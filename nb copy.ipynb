{
 "cells": [
  {
   "cell_type": "code",
   "execution_count": 1,
   "metadata": {},
   "outputs": [],
   "source": [
    "import os\n",
    "from langchain.document_loaders import DirectoryLoader ,PyPDFLoader\n",
    "from langchain.llms import VertexAI\n",
    "from langchain import LLMChain\n",
    "\n",
    "from langchain.text_splitter import RecursiveCharacterTextSplitter\n",
    "from IPython.core.display import Markdown\n",
    "from langchain.embeddings import VertexAIEmbeddings\n",
    "from langchain.vectorstores import Chroma\n",
    "from langchain.prompts import PromptTemplate\n",
    "\n",
    "\n",
    "# os.environ[\"LANGCHAIN_WANDB_TRACING\"] = \"true\"\n",
    "# os.environ[\"WANDB_PROJECT\"] = \"langchain-tracing\"\n",
    "os.environ['GOOGLE_APPLICATION_CREDENTIALS'] = 'ghc-001-7755ed5582db.json'\n"
   ]
  },
  {
   "cell_type": "code",
   "execution_count": 105,
   "metadata": {},
   "outputs": [],
   "source": [
    "directory = \"media/resumes/\"\n",
    "dl = DirectoryLoader(directory, \"**/*.pdf\")\n",
    "docs = dl.load()\n"
   ]
  },
  {
   "cell_type": "code",
   "execution_count": 106,
   "metadata": {},
   "outputs": [],
   "source": [
    "\n",
    "splitter = RecursiveCharacterTextSplitter(chunk_size=1400, chunk_overlap=100)\n",
    "document_section = splitter.split_documents(docs)\n",
    "\n"
   ]
  },
  {
   "cell_type": "code",
   "execution_count": 107,
   "metadata": {},
   "outputs": [],
   "source": [
    "embeddings = VertexAIEmbeddings()\n",
    "\n",
    "db = Chroma.from_documents(document_section, embeddings)\n"
   ]
  },
  {
   "cell_type": "code",
   "execution_count": 108,
   "metadata": {},
   "outputs": [],
   "source": [
    "retriever = db.as_retriever(search_kwargs = dict(k=5))\n"
   ]
  },
  {
   "cell_type": "code",
   "execution_count": 109,
   "metadata": {},
   "outputs": [
    {
     "data": {
      "text/plain": [
       "[Document(page_content='Rufus Stewart A C C O U N T E X E C U T I V E\\n\\nPERSONAL PROFILE\\n\\nWith over 10 years experience, my current role involves liaising with clients, planning, organising events, advertising, PR and research.\\n\\nI specialise in building lasting client relationships and developing\\n\\neffective strategies. With over 10 years experience, my role involves\\n\\nliaising with clients, planning, organising events, advertising, PR and\\n\\nresearch. I specialise in building lasting client relationships and\\n\\ndeveloping effective strategies.\\n\\nWORK EXPERIENCE\\n\\nSKILLS\\n\\n2011 - 2015\\n\\nAccount Executive\\n\\nStrategy development\\n\\nStudio Shodwe\\n\\nOrganisation\\n\\nPublic relations\\n\\n2016 - 2018\\n\\nAccount Executive\\n\\nCustomer service & relations\\n\\nThynk Unlimited\\n\\nInnovative thinking\\n\\nExcellent planning skills\\n\\n2019 - 2021\\n\\nAccount Executive\\n\\nNegotiation & networking\\n\\nTimmerman Industries\\n\\nAbility to multi-task\\n\\nWork to deadlines\\n\\nEDUCATION\\n\\nCONTACT\\n\\n2004 - 2006\\n\\nCertificate in Marketing\\n\\n+123-456-7890\\n\\nand Advertising\\n\\nhello@reallygreatsite.com\\n\\nFauget School of The Arts\\n\\n123 Anywhere St., Any City\\n\\n2007 - 2010\\n\\nBachelor of Business\\n\\nwww.reallygreatsite.com\\n\\nBorcelle University', metadata={'source': 'media/resumes/Black_and_Yellow_Geometric_Professional_CV_Resume.pdf'}),\n",
       " Document(page_content='Jan 2022 -\\n\\nWEB DESIGNER\\n\\nSKILLS\\n\\nWarner & Spencer\\n\\nDec 2023\\n\\nFriendly\\n\\nWeb Design\\n\\nLorem ipsum dolor sit amet, consectetur adipiscing elit. Nunc sit amet sem nec risus egestas accumsan. In enim nunc, tincidunt ut quam eget, luctus sollicitudin neque. Sed leo nisl, semper ac hendrerit a, sollicitudin in arcu.\\n\\nCritical thinking\\n\\nCommunication\\n\\nTeamwork\\n\\nResilience\\n\\nMeeting deadlines\\n\\nOrganized\\n\\nEDUCATION\\n\\nLANGUAGES\\n\\nSpanish\\n\\nFrench\\n\\nEnglish\\n\\n2012-2016\\n\\nBACHELOR OF DESIGN\\n\\nReally Great University 123 Anywhere St., Any City\\n\\nREFERENCE\\n\\n2016-2020\\n\\nBACHELOR OF DESIGN\\n\\nALFREDO TORRES\\n\\nReally Great University 123 Anywhere St., Any City\\n\\nCEO | Aldenaire & Partners +123-456-7890', metadata={'source': 'media/resumes/Black_and_White_Minimalist_Professional_Graphic_Designer_Cv_Resume1.pdf'}),\n",
       " Document(page_content='Connor Hamilton\\n\\nProfessional Graphic Design\\n\\nEducation\\n\\nReference\\n\\n2 0 1 0\\n\\nL a r a n a U n i v e r s i t y\\n\\n\\n\\nJuliana Silva\\n\\nB a c h e l o r o f C r e a t i v e A r t s\\n\\n2 0 1 2\\n\\nWardiere Inc. / CEO\\n\\nGraduated in Web Designing.\\n\\nGained extensive training.\\n\\n123-456-7890\\n\\nAcademic Excellence in Product Design\\n\\nReese Miller\\n\\n2 0 1 0\\n\\nL a r a n a U n i v e r s i t y\\n\\nWardiere Inc. / CEO\\n\\n\\n\\nB a c h e l o r o f C r e a t i v e A r t s\\n\\n2 0 1 2\\n\\n123-456-7890\\n\\nGraduated in Web Designing.\\n\\nGained extensive training.\\n\\nAcademic Excellence in Product Design\\n\\nLanguage\\n\\nWork Experience\\n\\nE n g l i s h\\n\\n2 0 1 0\\n\\nArowwai Industries\\n\\nF r e n c h\\n\\n\\n\\nProduct Design Manager\\n\\n2 0 1 2\\n\\nWorking with the wider development team.\\n\\nManage website design, content, and SEO Marketing,\\n\\nBranding and Logo Design\\n\\nSkills\\n\\n2 0 1 0\\n\\nArowwai Industries\\n\\n\\n\\nProduct Design Manager\\n\\nP h o t o g r a p h y\\n\\n2 0 1 2\\n\\nWorking with the wider development team.\\n\\nManage website design, content, and SEO Marketing,\\n\\nW e b D e s i g n\\n\\nBranding and Logo Design\\n\\nV i d e o E d i t i n g\\n\\n2 0 1 0\\n\\nArowwai Industries\\n\\n\\n\\nProduct Design Manager\\n\\nG r a p h i c D e s i g n\\n\\n2 0 1 2\\n\\nWorking with the wider development team.\\n\\nM a r k e t i n g\\n\\nManage website design, content, and SEO Marketing,\\n\\nBranding and Logo Design', metadata={'source': 'media/resumes/Black_and_White_Minimalist_Graphic_Designer_Resume.pdf'}),\n",
       " Document(page_content='Assistant Marketing Manager\\n\\nThynk Unlimited | Really Great City Jan 2020 - Dec 2020\\n\\nLorem ipsum dolor sit amet, consectetur adipiscing elit. Nunc sit amet sem nec risus egestas accumsan. In enim nunc, tincidunt ut quam eget, luctus sollicitudin neque. Sed leo nisl, semper ac hendrerit a, sollicitudin in arcu.\\n\\nS K I L L S\\n\\nCreativity\\n\\nCommunication\\n\\nTeamwork\\n\\nL A N G U A G E S\\n\\nR E F E R E N C E\\n\\nMeeting deadlines\\n\\nFriendly\\n\\nFrench\\n\\nAlfredo Torres\\n\\nCritical thinking\\n\\nEnglish\\n\\nCEO | Aldenaire & Partners\\n\\nSpanish\\n\\n+123-456-7890\\n\\nResilience', metadata={'source': 'media/resumes/Black_and_White_Minimalist_Marketing_Manager_Professional_CV_Resume.pdf'}),\n",
       " Document(page_content='Assistant Marketing Manager\\n\\nThynk Unlimited | Really Great City Jan 2020 - Dec 2020\\n\\nLorem ipsum dolor sit amet, consectetur adipiscing elit. Nunc sit amet sem nec risus egestas accumsan. In enim nunc, tincidunt ut quam eget, luctus sollicitudin neque. Sed leo nisl, semper ac hendrerit a, sollicitudin in arcu.\\n\\nS K I L L S\\n\\nCreativity\\n\\nCommunication\\n\\nTeamwork\\n\\nL A N G U A G E S\\n\\nR E F E R E N C E\\n\\nMeeting deadlines\\n\\nFriendly\\n\\nFrench\\n\\nAlfredo Torres\\n\\nCritical thinking\\n\\nEnglish\\n\\nCEO | Aldenaire & Partners\\n\\nSpanish\\n\\n+123-456-7890\\n\\nResilience', metadata={'source': 'media/resumes/Black_and_White_Minimalist_Marketing_Manager_Professional_CV_Resume_Z3Cudvs.pdf'})]"
      ]
     },
     "execution_count": 109,
     "metadata": {},
     "output_type": "execute_result"
    }
   ],
   "source": [
    "question = \"Create a json for all the people in this resumes\"\n",
    "docs = retriever.get_relevant_documents(question)\n",
    "docs"
   ]
  },
  {
   "cell_type": "code",
   "execution_count": 134,
   "metadata": {},
   "outputs": [
    {
     "ename": "SyntaxError",
     "evalue": "illegal target for annotation (1452720814.py, line 1)",
     "output_type": "error",
     "traceback": [
      "\u001b[0;36m  Cell \u001b[0;32mIn[134], line 1\u001b[0;36m\u001b[0m\n\u001b[0;31m    \"Name\": \"John Doe\",\u001b[0m\n\u001b[0m    ^\u001b[0m\n\u001b[0;31mSyntaxError\u001b[0m\u001b[0;31m:\u001b[0m illegal target for annotation\n"
     ]
    }
   ],
   "source": [
    "\"Name\": \"John Doe\",\n",
    "    \"Summary\": \"Software Engineer with 10 years of experience in developing scalable web applications. Proficient in Java, Python, C++.\",\n",
    "    \"Work Experience\": \"Google Search, Facebook Ads, Uber\",\n",
    "    \"Years Of Experience\": \"10 years\",\n",
    "    \"Skills\": [\"Java\", \"Python\", \"C++\"],\n",
    "    \"Projects\": [\"Google Search\", \"Facebook Ads\", \"Uber\"],\n",
    "    \"Education\": \"Stanford University\",\n",
    "    \"Certifications\": [\"AWS Certified Solutions Architect - Associate\", \"Google Cloud Certified Professional Cloud Architect\"],\n",
    "    \"Awards and Achievements\": [\"Google Founders' Award\", \"ACM Grace Hopper Award\"]\n"
   ]
  },
  {
   "cell_type": "code",
   "execution_count": 3,
   "metadata": {},
   "outputs": [],
   "source": [
    "prompt_template = \"\"\"\n",
    "In this task, you'll be analyzing the resume of a job candidate. Your objective is to extract key information from all the resume of these people\n",
    "\n",
    "Here are candidate's resume:\n",
    "\n",
    "***\n",
    "\n",
    "{resume}\n",
    "\n",
    "***\n",
    "\n",
    "Your task is to carefully read through the resume and identify key information about the candidate. This includes:\n",
    "\n",
    "- Name\n",
    "- Summary of their professional profile\n",
    "- Work experience\n",
    "- Years of experience\n",
    "- Skills\n",
    "- Major projects they've worked on\n",
    "- Education background\n",
    "- Certifications\n",
    "- Awards and achievements\n",
    "\n",
    "For example, if you're examining the resume of a software engineer named John Doe, your output should be a markdown table:\n",
    "Create a table and fill the respective details from the resume inside it and in Markdown format and it should include the following fields:\n",
    "\n",
    "Name | Summary | Work Experience | Years Of Experience | Skills | Projects | Education | Certifications | Awards and Achievements\n",
    "John Doe | Software Engineer with 10 years of experience in developing scalable web applications. Proficient in Java, Python, C++. | Google Search, Facebook Ads, Uber | 10 years | Java, Python, C++ | Google Search, Facebook Ads, Uber | Stanford University | AWS Certified Solutions Architect - Associate, Google Cloud Certified Professional Cloud Architect | Google Founders' Award, ACM Grace Hopper Award\n",
    "\n",
    "When you encounter a category for which the resume provides no information, please use None as the value.\n",
    "\n",
    "The quality of your work will be assessed based on:\n",
    "\n",
    "The completeness and accuracy of the information you extract from the resume.\n",
    "The relevance of the extracted information to the job posting.\n",
    "The correctness of the JSON format in your output.\n",
    "Now, here's your question:\n",
    "\n",
    "Question: {question}\n",
    "\n",
    "When you've completed your analysis, please provide the extracted details in Markdown format.\n",
    "\"\"\""
   ]
  },
  {
   "cell_type": "code",
   "execution_count": 172,
   "metadata": {},
   "outputs": [
    {
     "data": {
      "text/plain": [
       "\"\\nIn this task, you'll be analyzing the resume of a job candidate. Your objective is to extract key information from all the resume of these people\\n\\nHere are candidate's resume:\\n\\n***\\n\\n{resume}\\n\\n***\\n\\nYour task is to carefully read through the resume and identify key information about the candidate. This includes:\\n\\n- Name\\n- Summary of their professional profile\\n- Work experience\\n- Years of experience\\n- Skills\\n- Major projects they've worked on\\n- Education background\\n- Certifications\\n- Awards and achievements\\n\\nFor example, if you're examining the resume of a software engineer named John Doe, your output should be a markdown table:\\nCreate a table and fill the respective details from the resume inside it and in Markdown format and it should include the following fields:\\n\\nName | Summary | Work Experience | Years Of Experience | Skills | Projects | Education | Certifications | Awards and Achievements\\nJohn Doe | Software Engineer with 10 years of experience in developing scalable web applications. Proficient in Java, Python, C++. | Google Search, Facebook Ads, Uber | 10 years | Java, Python, C++ | Google Search, Facebook Ads, Uber | Stanford University | AWS Certified Solutions Architect - Associate, Google Cloud Certified Professional Cloud Architect | Google Founders' Award, ACM Grace Hopper Award\\n\\nWhen you encounter a category for which the resume provides no information, please use None as the value.\\n\\nThe quality of your work will be assessed based on:\\n\\nThe completeness and accuracy of the information you extract from the resume.\\nThe relevance of the extracted information to the job posting.\\nThe correctness of the JSON format in your output.\\nNow, here's your question:\\n\\nQuestion: {question}\\n\\nWhen you've completed your analysis, please provide the extracted details in Markdown format.\\n\""
      ]
     },
     "execution_count": 172,
     "metadata": {},
     "output_type": "execute_result"
    }
   ],
   "source": [
    "prompt_template"
   ]
  },
  {
   "cell_type": "code",
   "execution_count": 4,
   "metadata": {},
   "outputs": [
    {
     "ename": "NameError",
     "evalue": "name 'docs' is not defined",
     "output_type": "error",
     "traceback": [
      "\u001b[0;31m---------------------------------------------------------------------------\u001b[0m",
      "\u001b[0;31mNameError\u001b[0m                                 Traceback (most recent call last)",
      "Cell \u001b[0;32mIn[4], line 15\u001b[0m\n\u001b[1;32m     13\u001b[0m llm \u001b[39m=\u001b[39m VertexAI(model_name\u001b[39m=\u001b[39m\u001b[39m\"\u001b[39m\u001b[39mtext-bison@001\u001b[39m\u001b[39m\"\u001b[39m) \u001b[39m# select the model\u001b[39;00m\n\u001b[1;32m     14\u001b[0m llm_chain \u001b[39m=\u001b[39m LLMChain(prompt\u001b[39m=\u001b[39mprompt, llm\u001b[39m=\u001b[39mllm)\n\u001b[0;32m---> 15\u001b[0m resume \u001b[39m=\u001b[39m \u001b[39m\"\u001b[39m\u001b[39m\\n\u001b[39;00m\u001b[39m\\n\u001b[39;00m\u001b[39m\"\u001b[39m\u001b[39m.\u001b[39mjoin([doc\u001b[39m.\u001b[39mpage_content \u001b[39mfor\u001b[39;00m doc \u001b[39min\u001b[39;00m docs[:\u001b[39m2\u001b[39m]])\n\u001b[1;32m     16\u001b[0m output \u001b[39m=\u001b[39m Markdown(llm_chain\u001b[39m.\u001b[39mrun(resume \u001b[39m=\u001b[39m resume ,  question\u001b[39m=\u001b[39m\u001b[39m\"\u001b[39m\u001b[39mCreate a table for Rufus Stewart\u001b[39m\u001b[39m\"\u001b[39m))\n",
      "\u001b[0;31mNameError\u001b[0m: name 'docs' is not defined"
     ]
    }
   ],
   "source": [
    "\n",
    "prompt = PromptTemplate(template=prompt_template, input_variables=[\"resume\" , \"question\"])\n",
    "loader1 = PyPDFLoader('media/resumes/Black_and_White_Minimalist_Graphic_Designer_Resume.pdf')\n",
    "pages = loader1.load()\n",
    "\n",
    "# Get the content of the resume\n",
    "indiv_resume = pages[0].page_content\n",
    "\n",
    "\n",
    "\n",
    "\n",
    "\n",
    "\n",
    "llm = VertexAI(model_name=\"text-bison@001\") # select the model\n",
    "llm_chain = LLMChain(prompt=prompt, llm=llm)\n",
    "resume = \"\\n\\n\".join([doc.page_content for doc in docs[:2]])\n",
    "output = Markdown(llm_chain.run(resume = resume ,  question=\"Create a table for Rufus Stewart\"))"
   ]
  },
  {
   "cell_type": "code",
   "execution_count": 174,
   "metadata": {},
   "outputs": [
    {
     "data": {
      "text/markdown": [
       "Name | Summary | Work Experience | Years Of Experience | Skills | Projects | Education | Certifications | Awards and Achievements\n",
       "Rufus Stewart | Account Executive | Studio Shodwe, Thynk Unlimited, Timmerman Industries | 10 years | Strategy development, Organisation, Public relations, Customer service & relations, Negotiation & networking, Ability to multi-task, Work to deadlines | None | Fauget School of The Arts, Borcelle University | None | None"
      ],
      "text/plain": [
       "<IPython.core.display.Markdown object>"
      ]
     },
     "execution_count": 174,
     "metadata": {},
     "output_type": "execute_result"
    }
   ],
   "source": [
    "output"
   ]
  },
  {
   "cell_type": "code",
   "execution_count": 11,
   "metadata": {},
   "outputs": [],
   "source": [
    "from langchain.document_loaders import PyPDFLoader\n",
    "from langchain.chains import LLMChain\n",
    "from langchain.prompts import PromptTemplate\n",
    "import json\n",
    "# Load the PDF\n",
    "loader1 = PyPDFLoader('media/resumes/Vienna-Modern-Resume-Template.pdf')\n",
    "pages = loader1.load()\n",
    "\n",
    "# Get the content of the resume\n",
    "indiv_resume = pages[0].page_content\n",
    "\n",
    "# Create the prompt\n",
    "\n",
    "# Set up the language model\n",
    "\n",
    "# Get the output\n",
    "\n",
    "\n",
    "table_template = '''This is a candiates resume {resume} , analyze this and give your output in JSON. For example : ``` \"Name\": \"Alfredo Torres\", \"Work Experience\": [Input the latest company only], \"Years Of Experience\": \"5 years\", \"Skills\": [\"Content design\", \"Speaking\", \"Content Marketing\", \"Digital Marketing\", \"Content editing\"], \"Projects\": [\"Salford & co.\", \"lliceria & co.\"], \"Education\": \"Only the University Name should be here\", \"Certifications\": \"If any certifications done\", \"Awards and Achievements\": None, \"AI Review\": [ \"The candidate has great work experience and professional ethics ]. \n",
    "\n",
    "Make sure that all the columns are  present in your response``` '''\n",
    "\n",
    "\n",
    "\n",
    "\n",
    "promp_analysis_table  = PromptTemplate(template=table_template, input_variables=[\"resume\"])\n",
    "# Set up the language model\n",
    "llm = VertexAI(model_name=\"text-bison@001\") # select the model\n",
    "llm_chain = LLMChain(prompt=promp_analysis_table, llm=llm)\n",
    "output = llm_chain.run(resume = indiv_resume)\n",
    "# print(type(output))\n",
    "# print(output)\n",
    "\n",
    "# output_list = []\n",
    "# output_list = json.loads(job_application.job_data())\n",
    "# output_list.append(output)\n",
    "\n",
    "# return output\n"
   ]
  },
  {
   "cell_type": "code",
   "execution_count": 14,
   "metadata": {},
   "outputs": [
    {
     "data": {
      "text/markdown": [
       "{\n",
       "  \"Name\": \"Janine Nel\",\n",
       "  \"Work Experience\": [\n",
       "    {\n",
       "      \"Company\": \"Engen Oil\",\n",
       "      \"Job Title\": \"Sales Engineer\",\n",
       "      \"Dates Employed\": \"May 2022 - May 2022\",\n",
       "      \"Responsibilities\": [\n",
       "        \"Recognized and provided current and future customer necessities in areas of filtration and lubrication products and services\",\n",
       "        \"Initiated Lubrication Fundamentals classes for employees and customers, which provided education on basic product info, machine elements that need lubrication, application methods, storing"
      ],
      "text/plain": [
       "<IPython.core.display.Markdown object>"
      ]
     },
     "execution_count": 14,
     "metadata": {},
     "output_type": "execute_result"
    }
   ],
   "source": [
    "Markdown(output)"
   ]
  },
  {
   "cell_type": "code",
   "execution_count": 12,
   "metadata": {},
   "outputs": [
    {
     "data": {
      "text/plain": [
       "530"
      ]
     },
     "execution_count": 12,
     "metadata": {},
     "output_type": "execute_result"
    }
   ],
   "source": [
    "len(output)\n"
   ]
  },
  {
   "cell_type": "code",
   "execution_count": 177,
   "metadata": {},
   "outputs": [
    {
     "data": {
      "text/markdown": [
       "{\n",
       "  \"Name\": \"Connor Hamilton\",\n",
       "  \"Work Experience\": [\n",
       "    {\n",
       "      \"Company\": \"Arowwai Industries\",\n",
       "      \"Position\": \"Product Design Manager\",\n",
       "      \"Dates\": \"2010-2012\",\n",
       "      \"Description\": \"Working with the wider development team.\n",
       "Manage website design, content, and SEO Marketing,\n",
       "Branding and Logo Design\"\n",
       "    },\n",
       "    {\n",
       "      \"Company\": \"Arowwai Industries\",\n",
       "      \"Position\": \"Product Design Manager\",\n",
       "      \"Dates\": \"2"
      ],
      "text/plain": [
       "<IPython.core.display.Markdown object>"
      ]
     },
     "execution_count": 177,
     "metadata": {},
     "output_type": "execute_result"
    }
   ],
   "source": [
    "indiv_resume = pages[0].page_content\n",
    "\n",
    "table_template = '''Your task is to carefully read through the resume and output a Object with the below given guideline.For example, if youre examining the resume of a software engineer named John Doe, your output should strictly be in Object format.The Object should include the following fields:\n",
    "    \"Name\": \"\", \"Work Experience\": \"\",\"Years Of Experience\": \"\",\"Skills\": [],\"Projects\": [],\"Education\": \"\",\"Certifications\": [],\"Awards and Achievements\": [], \"AI Review\" : []\n",
    "When you encounter a category for which the resume provides no information, please use None as the value.When youve completed your analysis, please provide the extracted details in Object format.\n",
    "This is the resume of the person:***{resume}***'''\n",
    "\n",
    "\n",
    "\n",
    "# final = table_template.format(resume=resume)\n",
    "\n",
    "\n",
    "promp_analysis_table  = PromptTemplate(template=table_template, input_variables=[\"resume\"])\n",
    "# Set up the language model\n",
    "llm = VertexAI(model_name=\"text-bison@001\") # select the model\n",
    "llm_chain = LLMChain(prompt=promp_analysis_table, llm=llm)\n",
    "new_output = Markdown(llm_chain.run(resume = indiv_resume))\n",
    "new_output"
   ]
  },
  {
   "cell_type": "code",
   "execution_count": 178,
   "metadata": {},
   "outputs": [
    {
     "ename": "TypeError",
     "evalue": "Markdown expects text, not <IPython.core.display.Markdown object>",
     "output_type": "error",
     "traceback": [
      "\u001b[0;31m---------------------------------------------------------------------------\u001b[0m",
      "\u001b[0;31mTypeError\u001b[0m                                 Traceback (most recent call last)",
      "Cell \u001b[0;32mIn[178], line 1\u001b[0m\n\u001b[0;32m----> 1\u001b[0m Markdown(new_output)\n",
      "File \u001b[0;32m~/Desktop/Vertex Hackathon/env/lib/python3.11/site-packages/IPython/core/display.py:328\u001b[0m, in \u001b[0;36mDisplayObject.__init__\u001b[0;34m(self, data, url, filename, metadata)\u001b[0m\n\u001b[1;32m    325\u001b[0m     \u001b[39mself\u001b[39m\u001b[39m.\u001b[39mmetadata \u001b[39m=\u001b[39m {}\n\u001b[1;32m    327\u001b[0m \u001b[39mself\u001b[39m\u001b[39m.\u001b[39mreload()\n\u001b[0;32m--> 328\u001b[0m \u001b[39mself\u001b[39;49m\u001b[39m.\u001b[39;49m_check_data()\n",
      "File \u001b[0;32m~/Desktop/Vertex Hackathon/env/lib/python3.11/site-packages/IPython/core/display.py:407\u001b[0m, in \u001b[0;36mTextDisplayObject._check_data\u001b[0;34m(self)\u001b[0m\n\u001b[1;32m    405\u001b[0m \u001b[39mdef\u001b[39;00m \u001b[39m_check_data\u001b[39m(\u001b[39mself\u001b[39m):\n\u001b[1;32m    406\u001b[0m     \u001b[39mif\u001b[39;00m \u001b[39mself\u001b[39m\u001b[39m.\u001b[39mdata \u001b[39mis\u001b[39;00m \u001b[39mnot\u001b[39;00m \u001b[39mNone\u001b[39;00m \u001b[39mand\u001b[39;00m \u001b[39mnot\u001b[39;00m \u001b[39misinstance\u001b[39m(\u001b[39mself\u001b[39m\u001b[39m.\u001b[39mdata, \u001b[39mstr\u001b[39m):\n\u001b[0;32m--> 407\u001b[0m         \u001b[39mraise\u001b[39;00m \u001b[39mTypeError\u001b[39;00m(\u001b[39m\"\u001b[39m\u001b[39m%s\u001b[39;00m\u001b[39m expects text, not \u001b[39m\u001b[39m%r\u001b[39;00m\u001b[39m\"\u001b[39m \u001b[39m%\u001b[39m (\u001b[39mself\u001b[39m\u001b[39m.\u001b[39m\u001b[39m__class__\u001b[39m\u001b[39m.\u001b[39m\u001b[39m__name__\u001b[39m, \u001b[39mself\u001b[39m\u001b[39m.\u001b[39mdata))\n",
      "\u001b[0;31mTypeError\u001b[0m: Markdown expects text, not <IPython.core.display.Markdown object>"
     ]
    }
   ],
   "source": [
    "Markdown(new_output)"
   ]
  },
  {
   "cell_type": "code",
   "execution_count": 15,
   "metadata": {},
   "outputs": [
    {
     "data": {
      "text/plain": [
       "'Janine Nel\\nSales Engineer\\n1515 Pacific Ave, Los Angeles, CA 90291, United States\\n3868683442  ·  email@email.com\\nLinkedIn, Pinterest, \\nResume Templates, \\nBuild this template\\nPlace of birth\\nSan Antonio\\nDriving license\\nFull\\nSkills\\nAutoCAD\\nIndustry Trends & Sales \\nForecasting\\nKnowledge of Technical \\nDiagrams\\nEngineering\\nAgile Project Management\\nLanguages\\nEnglish\\nDutch\\nHobbies\\nPiano, Debate, TriathlonProfile\\nDeadline- focused Sales Engineer with six years experience in technical sales, \\ncontributing to the 30% growth of income for regional technology solutions \\nprovider over five states, producing and assisting long-term contracts with Fortune \\n500 clients, and growing Territory sixfold up to $350M.\\nEmployment History\\nSales Engineer, Engen Oil, Jacksonville\\nMay 2022 — May 2022\\nPrimary duty was to recognize and provide current and future customer necessities \\nin areas of filtration and lubrication products and services.\\n•Initiated Lubrication Fundamentals classes for employees and customers, \\nwhich provided education on basic product info, machine elements that \\nneed lubrication, application methods, storing lubricant, and lubricant \\nconservation and handling.\\n•Designed and applied a highly effective industrial filtration program that \\nproduced up to 2,000 gallons of processed oil weekly, which resulted in a \\nconsiderable expense saving for the customer and improved profits for the \\ncompany.\\n•Designed and applied for numerous lubrication programs, providing \\nadditional value-added services and improved profit margins.\\n•Functioned as a consultant on Best-in-Class Lubrication programs.\\nSales Engineer, Quest Medical, Los Angeles\\nJanuary 2019 — April 2021\\nAccountable for day-to-day program management, customer relationships, and \\nestimating the shaping and assembly of medical programs for critical Fortune 500 \\nClients: Pall Life Sciences, Baxter Healthcare, and Quest Medical.\\n•Designed and presented tailored technical solutions to top-3 state \\nautomotive dealers, driving sales from $3M to 11$M over t5 years.\\n•Supervised logistics and Proof of concept pilots worth up to $800,000.\\n•Exceeded yearly quota by 145% by actively outperforming the competition \\nin public tenders and providing 97.5% satisfaction support over the \\nmanaged Territory of current accounts.\\nEducation\\nMasters in Industrial Engineering, Harvard University, Miami\\nJanuary 2019 — May 2022'"
      ]
     },
     "execution_count": 15,
     "metadata": {},
     "output_type": "execute_result"
    }
   ],
   "source": [
    "indiv_resume"
   ]
  },
  {
   "cell_type": "markdown",
   "metadata": {},
   "source": []
  },
  {
   "cell_type": "code",
   "execution_count": 16,
   "metadata": {},
   "outputs": [],
   "source": [
    "from google.cloud import aiplatform\n",
    "\n",
    "aiplatform.init(\n",
    "\n",
    "\n",
    "    credentials='ghc-001-7755ed5582db.json',\n",
    ")"
   ]
  },
  {
   "cell_type": "code",
   "execution_count": 17,
   "metadata": {},
   "outputs": [
    {
     "ename": "RetryError",
     "evalue": "Deadline of 120.0s exceeded while calling target function, last exception: 503 Getting metadata from plugin failed with error: 'str' object has no attribute 'before_request'",
     "output_type": "error",
     "traceback": [
      "\u001b[0;31m---------------------------------------------------------------------------\u001b[0m",
      "\u001b[0;31m_InactiveRpcError\u001b[0m                         Traceback (most recent call last)",
      "File \u001b[0;32m~/Desktop/Vertex Hackathon/env/lib/python3.11/site-packages/google/api_core/grpc_helpers.py:72\u001b[0m, in \u001b[0;36m_wrap_unary_errors.<locals>.error_remapped_callable\u001b[0;34m(*args, **kwargs)\u001b[0m\n\u001b[1;32m     71\u001b[0m \u001b[39mtry\u001b[39;00m:\n\u001b[0;32m---> 72\u001b[0m     \u001b[39mreturn\u001b[39;00m callable_(\u001b[39m*\u001b[39;49margs, \u001b[39m*\u001b[39;49m\u001b[39m*\u001b[39;49mkwargs)\n\u001b[1;32m     73\u001b[0m \u001b[39mexcept\u001b[39;00m grpc\u001b[39m.\u001b[39mRpcError \u001b[39mas\u001b[39;00m exc:\n",
      "File \u001b[0;32m~/Desktop/Vertex Hackathon/env/lib/python3.11/site-packages/grpc/_channel.py:1030\u001b[0m, in \u001b[0;36m_UnaryUnaryMultiCallable.__call__\u001b[0;34m(self, request, timeout, metadata, credentials, wait_for_ready, compression)\u001b[0m\n\u001b[1;32m   1028\u001b[0m state, call, \u001b[39m=\u001b[39m \u001b[39mself\u001b[39m\u001b[39m.\u001b[39m_blocking(request, timeout, metadata, credentials,\n\u001b[1;32m   1029\u001b[0m                               wait_for_ready, compression)\n\u001b[0;32m-> 1030\u001b[0m \u001b[39mreturn\u001b[39;00m _end_unary_response_blocking(state, call, \u001b[39mFalse\u001b[39;49;00m, \u001b[39mNone\u001b[39;49;00m)\n",
      "File \u001b[0;32m~/Desktop/Vertex Hackathon/env/lib/python3.11/site-packages/grpc/_channel.py:910\u001b[0m, in \u001b[0;36m_end_unary_response_blocking\u001b[0;34m(state, call, with_call, deadline)\u001b[0m\n\u001b[1;32m    909\u001b[0m \u001b[39melse\u001b[39;00m:\n\u001b[0;32m--> 910\u001b[0m     \u001b[39mraise\u001b[39;00m _InactiveRpcError(state)\n",
      "\u001b[0;31m_InactiveRpcError\u001b[0m: <_InactiveRpcError of RPC that terminated with:\n\tstatus = StatusCode.UNAVAILABLE\n\tdetails = \"Getting metadata from plugin failed with error: 'str' object has no attribute 'before_request'\"\n\tdebug_error_string = \"UNKNOWN:Error received from peer  {created_time:\"2023-07-10T17:31:14.593134+05:30\", grpc_status:14, grpc_message:\"Getting metadata from plugin failed with error: \\'str\\' object has no attribute \\'before_request\\'\"}\"\n>",
      "\nThe above exception was the direct cause of the following exception:\n",
      "\u001b[0;31mServiceUnavailable\u001b[0m                        Traceback (most recent call last)",
      "File \u001b[0;32m~/Desktop/Vertex Hackathon/env/lib/python3.11/site-packages/google/api_core/retry.py:191\u001b[0m, in \u001b[0;36mretry_target\u001b[0;34m(target, predicate, sleep_generator, timeout, on_error, **kwargs)\u001b[0m\n\u001b[1;32m    190\u001b[0m \u001b[39mtry\u001b[39;00m:\n\u001b[0;32m--> 191\u001b[0m     \u001b[39mreturn\u001b[39;00m target()\n\u001b[1;32m    193\u001b[0m \u001b[39m# pylint: disable=broad-except\u001b[39;00m\n\u001b[1;32m    194\u001b[0m \u001b[39m# This function explicitly must deal with broad exceptions.\u001b[39;00m\n",
      "File \u001b[0;32m~/Desktop/Vertex Hackathon/env/lib/python3.11/site-packages/google/api_core/grpc_helpers.py:74\u001b[0m, in \u001b[0;36m_wrap_unary_errors.<locals>.error_remapped_callable\u001b[0;34m(*args, **kwargs)\u001b[0m\n\u001b[1;32m     73\u001b[0m \u001b[39mexcept\u001b[39;00m grpc\u001b[39m.\u001b[39mRpcError \u001b[39mas\u001b[39;00m exc:\n\u001b[0;32m---> 74\u001b[0m     \u001b[39mraise\u001b[39;00m exceptions\u001b[39m.\u001b[39mfrom_grpc_error(exc) \u001b[39mfrom\u001b[39;00m \u001b[39mexc\u001b[39;00m\n",
      "\u001b[0;31mServiceUnavailable\u001b[0m: 503 Getting metadata from plugin failed with error: 'str' object has no attribute 'before_request'",
      "\nThe above exception was the direct cause of the following exception:\n",
      "\u001b[0;31mRetryError\u001b[0m                                Traceback (most recent call last)",
      "Cell \u001b[0;32mIn[17], line 11\u001b[0m\n\u001b[1;32m      4\u001b[0m vertexai\u001b[39m.\u001b[39minit(project\u001b[39m=\u001b[39m\u001b[39m\"\u001b[39m\u001b[39mhackathonvertex\u001b[39m\u001b[39m\"\u001b[39m, location\u001b[39m=\u001b[39m\u001b[39m\"\u001b[39m\u001b[39mus-central1\u001b[39m\u001b[39m\"\u001b[39m)\n\u001b[1;32m      5\u001b[0m parameters \u001b[39m=\u001b[39m {\n\u001b[1;32m      6\u001b[0m     \u001b[39m\"\u001b[39m\u001b[39mtemperature\u001b[39m\u001b[39m\"\u001b[39m: \u001b[39m0.2\u001b[39m,\n\u001b[1;32m      7\u001b[0m     \u001b[39m\"\u001b[39m\u001b[39mmax_output_tokens\u001b[39m\u001b[39m\"\u001b[39m: \u001b[39m1024\u001b[39m,\n\u001b[1;32m      8\u001b[0m     \u001b[39m\"\u001b[39m\u001b[39mtop_p\u001b[39m\u001b[39m\"\u001b[39m: \u001b[39m0.8\u001b[39m,\n\u001b[1;32m      9\u001b[0m     \u001b[39m\"\u001b[39m\u001b[39mtop_k\u001b[39m\u001b[39m\"\u001b[39m: \u001b[39m40\u001b[39m\n\u001b[1;32m     10\u001b[0m }\n\u001b[0;32m---> 11\u001b[0m model \u001b[39m=\u001b[39m TextGenerationModel\u001b[39m.\u001b[39;49mfrom_pretrained(\u001b[39m\"\u001b[39;49m\u001b[39mtext-bison@001\u001b[39;49m\u001b[39m\"\u001b[39;49m)\n\u001b[1;32m     12\u001b[0m response \u001b[39m=\u001b[39m model\u001b[39m.\u001b[39mpredict(\n\u001b[1;32m     13\u001b[0m \u001b[39m    \u001b[39m\u001b[39m\"\"\"In this task, you\\'ll be analyzing the resume of a job candidate. Your objective is to extract key information from the resume, and evaluate how well the candidate\\'s profile aligns with the requirements of the job.\u001b[39;00m\n\u001b[1;32m     14\u001b[0m \n\u001b[0;32m   (...)\u001b[0m\n\u001b[1;32m     51\u001b[0m     \u001b[39m*\u001b[39m\u001b[39m*\u001b[39mparameters\n\u001b[1;32m     52\u001b[0m )\n\u001b[1;32m     53\u001b[0m \u001b[39mprint\u001b[39m(\u001b[39mf\u001b[39m\u001b[39m\"\u001b[39m\u001b[39mResponse from Model: \u001b[39m\u001b[39m{\u001b[39;00mresponse\u001b[39m.\u001b[39mtext\u001b[39m}\u001b[39;00m\u001b[39m\"\u001b[39m)\n",
      "File \u001b[0;32m~/Desktop/Vertex Hackathon/env/lib/python3.11/site-packages/vertexai/_model_garden/_model_garden_models.py:211\u001b[0m, in \u001b[0;36m_ModelGardenModel.from_pretrained\u001b[0;34m(cls, model_name)\u001b[0m\n\u001b[1;32m    206\u001b[0m \u001b[39mif\u001b[39;00m \u001b[39mnot\u001b[39;00m \u001b[39mcls\u001b[39m\u001b[39m.\u001b[39m_INSTANCE_SCHEMA_URI:\n\u001b[1;32m    207\u001b[0m     \u001b[39mraise\u001b[39;00m \u001b[39mValueError\u001b[39;00m(\n\u001b[1;32m    208\u001b[0m         \u001b[39mf\u001b[39m\u001b[39m\"\u001b[39m\u001b[39mClass \u001b[39m\u001b[39m{\u001b[39;00m\u001b[39mcls\u001b[39m\u001b[39m}\u001b[39;00m\u001b[39m is not a correct model interface class since it does not have an instance schema URI.\u001b[39m\u001b[39m\"\u001b[39m\n\u001b[1;32m    209\u001b[0m     )\n\u001b[0;32m--> 211\u001b[0m model_info \u001b[39m=\u001b[39m _get_model_info(\n\u001b[1;32m    212\u001b[0m     model_id\u001b[39m=\u001b[39;49mmodel_name, schema_to_class_map\u001b[39m=\u001b[39;49m{\u001b[39mcls\u001b[39;49m\u001b[39m.\u001b[39;49m_INSTANCE_SCHEMA_URI: \u001b[39mcls\u001b[39;49m}\n\u001b[1;32m    213\u001b[0m )\n\u001b[1;32m    215\u001b[0m \u001b[39mif\u001b[39;00m \u001b[39mnot\u001b[39;00m \u001b[39missubclass\u001b[39m(model_info\u001b[39m.\u001b[39minterface_class, \u001b[39mcls\u001b[39m):\n\u001b[1;32m    216\u001b[0m     \u001b[39mraise\u001b[39;00m \u001b[39mValueError\u001b[39;00m(\n\u001b[1;32m    217\u001b[0m         \u001b[39mf\u001b[39m\u001b[39m\"\u001b[39m\u001b[39m{\u001b[39;00mmodel_name\u001b[39m}\u001b[39;00m\u001b[39m is of type \u001b[39m\u001b[39m{\u001b[39;00mmodel_info\u001b[39m.\u001b[39minterface_class\u001b[39m.\u001b[39m\u001b[39m__name__\u001b[39m\u001b[39m}\u001b[39;00m\u001b[39m not of type \u001b[39m\u001b[39m{\u001b[39;00m\u001b[39mcls\u001b[39m\u001b[39m.\u001b[39m\u001b[39m__name__\u001b[39m\u001b[39m}\u001b[39;00m\u001b[39m\"\u001b[39m\n\u001b[1;32m    218\u001b[0m     )\n",
      "File \u001b[0;32m~/Desktop/Vertex Hackathon/env/lib/python3.11/site-packages/vertexai/_model_garden/_model_garden_models.py:93\u001b[0m, in \u001b[0;36m_get_model_info\u001b[0;34m(model_id, schema_to_class_map)\u001b[0m\n\u001b[1;32m     89\u001b[0m \u001b[39mif\u001b[39;00m \u001b[39m\"\u001b[39m\u001b[39m/\u001b[39m\u001b[39m\"\u001b[39m \u001b[39mnot\u001b[39;00m \u001b[39min\u001b[39;00m model_id:\n\u001b[1;32m     90\u001b[0m     model_id \u001b[39m=\u001b[39m \u001b[39m\"\u001b[39m\u001b[39mpublishers/google/models/\u001b[39m\u001b[39m\"\u001b[39m \u001b[39m+\u001b[39m model_id\n\u001b[1;32m     92\u001b[0m publisher_model_res \u001b[39m=\u001b[39m (\n\u001b[0;32m---> 93\u001b[0m     _publisher_models\u001b[39m.\u001b[39;49m_PublisherModel(  \u001b[39m# pylint: disable=protected-access\u001b[39;49;00m\n\u001b[1;32m     94\u001b[0m         resource_name\u001b[39m=\u001b[39;49mmodel_id\n\u001b[1;32m     95\u001b[0m     )\u001b[39m.\u001b[39m_gca_resource\n\u001b[1;32m     96\u001b[0m )\n\u001b[1;32m     98\u001b[0m \u001b[39mif\u001b[39;00m \u001b[39mnot\u001b[39;00m publisher_model_res\u001b[39m.\u001b[39mname\u001b[39m.\u001b[39mstartswith(\u001b[39m\"\u001b[39m\u001b[39mpublishers/google/models/\u001b[39m\u001b[39m\"\u001b[39m):\n\u001b[1;32m     99\u001b[0m     \u001b[39mraise\u001b[39;00m \u001b[39mValueError\u001b[39;00m(\n\u001b[1;32m    100\u001b[0m         \u001b[39mf\u001b[39m\u001b[39m\"\u001b[39m\u001b[39mOnly Google models are currently supported. \u001b[39m\u001b[39m{\u001b[39;00mpublisher_model_res\u001b[39m.\u001b[39mname\u001b[39m}\u001b[39;00m\u001b[39m\"\u001b[39m\n\u001b[1;32m    101\u001b[0m     )\n",
      "File \u001b[0;32m~/Desktop/Vertex Hackathon/env/lib/python3.11/site-packages/google/cloud/aiplatform/_publisher_models.py:77\u001b[0m, in \u001b[0;36m_PublisherModel.__init__\u001b[0;34m(self, resource_name, project, location, credentials)\u001b[0m\n\u001b[1;32m     71\u001b[0m     \u001b[39melse\u001b[39;00m:\n\u001b[1;32m     72\u001b[0m         \u001b[39mraise\u001b[39;00m \u001b[39mValueError\u001b[39;00m(\n\u001b[1;32m     73\u001b[0m             \u001b[39mf\u001b[39m\u001b[39m\"\u001b[39m\u001b[39m`\u001b[39m\u001b[39m{\u001b[39;00mresource_name\u001b[39m}\u001b[39;00m\u001b[39m` is not a valid PublisherModel resource \u001b[39m\u001b[39m\"\u001b[39m\n\u001b[1;32m     74\u001b[0m             \u001b[39m\"\u001b[39m\u001b[39mname or model garden id.\u001b[39m\u001b[39m\"\u001b[39m\n\u001b[1;32m     75\u001b[0m         )\n\u001b[0;32m---> 77\u001b[0m \u001b[39mself\u001b[39m\u001b[39m.\u001b[39m_gca_resource \u001b[39m=\u001b[39m \u001b[39mgetattr\u001b[39;49m(\u001b[39mself\u001b[39;49m\u001b[39m.\u001b[39;49mapi_client, \u001b[39mself\u001b[39;49m\u001b[39m.\u001b[39;49m_getter_method)(\n\u001b[1;32m     78\u001b[0m     name\u001b[39m=\u001b[39;49mfull_resource_name, retry\u001b[39m=\u001b[39;49mbase\u001b[39m.\u001b[39;49m_DEFAULT_RETRY\n\u001b[1;32m     79\u001b[0m )\n",
      "File \u001b[0;32m~/Desktop/Vertex Hackathon/env/lib/python3.11/site-packages/google/cloud/aiplatform_v1/services/model_garden_service/client.py:536\u001b[0m, in \u001b[0;36mModelGardenServiceClient.get_publisher_model\u001b[0;34m(self, request, name, retry, timeout, metadata)\u001b[0m\n\u001b[1;32m    531\u001b[0m metadata \u001b[39m=\u001b[39m \u001b[39mtuple\u001b[39m(metadata) \u001b[39m+\u001b[39m (\n\u001b[1;32m    532\u001b[0m     gapic_v1\u001b[39m.\u001b[39mrouting_header\u001b[39m.\u001b[39mto_grpc_metadata(((\u001b[39m\"\u001b[39m\u001b[39mname\u001b[39m\u001b[39m\"\u001b[39m, request\u001b[39m.\u001b[39mname),)),\n\u001b[1;32m    533\u001b[0m )\n\u001b[1;32m    535\u001b[0m \u001b[39m# Send the request.\u001b[39;00m\n\u001b[0;32m--> 536\u001b[0m response \u001b[39m=\u001b[39m rpc(\n\u001b[1;32m    537\u001b[0m     request,\n\u001b[1;32m    538\u001b[0m     retry\u001b[39m=\u001b[39;49mretry,\n\u001b[1;32m    539\u001b[0m     timeout\u001b[39m=\u001b[39;49mtimeout,\n\u001b[1;32m    540\u001b[0m     metadata\u001b[39m=\u001b[39;49mmetadata,\n\u001b[1;32m    541\u001b[0m )\n\u001b[1;32m    543\u001b[0m \u001b[39m# Done; return the response.\u001b[39;00m\n\u001b[1;32m    544\u001b[0m \u001b[39mreturn\u001b[39;00m response\n",
      "File \u001b[0;32m~/Desktop/Vertex Hackathon/env/lib/python3.11/site-packages/google/api_core/gapic_v1/method.py:113\u001b[0m, in \u001b[0;36m_GapicCallable.__call__\u001b[0;34m(self, timeout, retry, *args, **kwargs)\u001b[0m\n\u001b[1;32m    110\u001b[0m     metadata\u001b[39m.\u001b[39mextend(\u001b[39mself\u001b[39m\u001b[39m.\u001b[39m_metadata)\n\u001b[1;32m    111\u001b[0m     kwargs[\u001b[39m\"\u001b[39m\u001b[39mmetadata\u001b[39m\u001b[39m\"\u001b[39m] \u001b[39m=\u001b[39m metadata\n\u001b[0;32m--> 113\u001b[0m \u001b[39mreturn\u001b[39;00m wrapped_func(\u001b[39m*\u001b[39;49margs, \u001b[39m*\u001b[39;49m\u001b[39m*\u001b[39;49mkwargs)\n",
      "File \u001b[0;32m~/Desktop/Vertex Hackathon/env/lib/python3.11/site-packages/google/api_core/retry.py:349\u001b[0m, in \u001b[0;36mRetry.__call__.<locals>.retry_wrapped_func\u001b[0;34m(*args, **kwargs)\u001b[0m\n\u001b[1;32m    345\u001b[0m target \u001b[39m=\u001b[39m functools\u001b[39m.\u001b[39mpartial(func, \u001b[39m*\u001b[39margs, \u001b[39m*\u001b[39m\u001b[39m*\u001b[39mkwargs)\n\u001b[1;32m    346\u001b[0m sleep_generator \u001b[39m=\u001b[39m exponential_sleep_generator(\n\u001b[1;32m    347\u001b[0m     \u001b[39mself\u001b[39m\u001b[39m.\u001b[39m_initial, \u001b[39mself\u001b[39m\u001b[39m.\u001b[39m_maximum, multiplier\u001b[39m=\u001b[39m\u001b[39mself\u001b[39m\u001b[39m.\u001b[39m_multiplier\n\u001b[1;32m    348\u001b[0m )\n\u001b[0;32m--> 349\u001b[0m \u001b[39mreturn\u001b[39;00m retry_target(\n\u001b[1;32m    350\u001b[0m     target,\n\u001b[1;32m    351\u001b[0m     \u001b[39mself\u001b[39;49m\u001b[39m.\u001b[39;49m_predicate,\n\u001b[1;32m    352\u001b[0m     sleep_generator,\n\u001b[1;32m    353\u001b[0m     \u001b[39mself\u001b[39;49m\u001b[39m.\u001b[39;49m_timeout,\n\u001b[1;32m    354\u001b[0m     on_error\u001b[39m=\u001b[39;49mon_error,\n\u001b[1;32m    355\u001b[0m )\n",
      "File \u001b[0;32m~/Desktop/Vertex Hackathon/env/lib/python3.11/site-packages/google/api_core/retry.py:207\u001b[0m, in \u001b[0;36mretry_target\u001b[0;34m(target, predicate, sleep_generator, timeout, on_error, **kwargs)\u001b[0m\n\u001b[1;32m    203\u001b[0m     next_attempt_time \u001b[39m=\u001b[39m datetime_helpers\u001b[39m.\u001b[39mutcnow() \u001b[39m+\u001b[39m datetime\u001b[39m.\u001b[39mtimedelta(\n\u001b[1;32m    204\u001b[0m         seconds\u001b[39m=\u001b[39msleep\n\u001b[1;32m    205\u001b[0m     )\n\u001b[1;32m    206\u001b[0m     \u001b[39mif\u001b[39;00m deadline \u001b[39m<\u001b[39m next_attempt_time:\n\u001b[0;32m--> 207\u001b[0m         \u001b[39mraise\u001b[39;00m exceptions\u001b[39m.\u001b[39mRetryError(\n\u001b[1;32m    208\u001b[0m             \u001b[39m\"\u001b[39m\u001b[39mDeadline of \u001b[39m\u001b[39m{:.1f}\u001b[39;00m\u001b[39ms exceeded while calling target function\u001b[39m\u001b[39m\"\u001b[39m\u001b[39m.\u001b[39mformat(\n\u001b[1;32m    209\u001b[0m                 timeout\n\u001b[1;32m    210\u001b[0m             ),\n\u001b[1;32m    211\u001b[0m             last_exc,\n\u001b[1;32m    212\u001b[0m         ) \u001b[39mfrom\u001b[39;00m \u001b[39mlast_exc\u001b[39;00m\n\u001b[1;32m    214\u001b[0m _LOGGER\u001b[39m.\u001b[39mdebug(\n\u001b[1;32m    215\u001b[0m     \u001b[39m\"\u001b[39m\u001b[39mRetrying due to \u001b[39m\u001b[39m{}\u001b[39;00m\u001b[39m, sleeping \u001b[39m\u001b[39m{:.1f}\u001b[39;00m\u001b[39ms ...\u001b[39m\u001b[39m\"\u001b[39m\u001b[39m.\u001b[39mformat(last_exc, sleep)\n\u001b[1;32m    216\u001b[0m )\n\u001b[1;32m    217\u001b[0m time\u001b[39m.\u001b[39msleep(sleep)\n",
      "\u001b[0;31mRetryError\u001b[0m: Deadline of 120.0s exceeded while calling target function, last exception: 503 Getting metadata from plugin failed with error: 'str' object has no attribute 'before_request'"
     ]
    }
   ],
   "source": [
    "import vertexai\n",
    "from vertexai.language_models import TextGenerationModel\n",
    "\n",
    "vertexai.init(project=\"hackathonvertex\", location=\"us-central1\")\n",
    "parameters = {\n",
    "    \"temperature\": 0.2,\n",
    "    \"max_output_tokens\": 1024,\n",
    "    \"top_p\": 0.8,\n",
    "    \"top_k\": 40\n",
    "}\n",
    "model = TextGenerationModel.from_pretrained(\"text-bison@001\")\n",
    "response = model.predict(\n",
    "    \"\"\"In this task, you\\'ll be analyzing the resume of a job candidate. Your objective is to extract key information from the resume, and evaluate how well the candidate\\'s profile aligns with the requirements of the job.\n",
    "\n",
    "Here is the candidate\\'s resume:\n",
    "\n",
    "***\n",
    "\n",
    "\\'Janine Nel\\\\nSales Engineer\\\\n1515 Pacific Ave, Los Angeles, CA 90291, United States\\\\n3868683442  ·  email@email.com\\\\nLinkedIn, Pinterest, \\\\nResume Templates, \\\\nBuild this template\\\\nPlace of birth\\\\nSan Antonio\\\\nDriving license\\\\nFull\\\\nSkills\\\\nAutoCAD\\\\nIndustry Trends & Sales \\\\nForecasting\\\\nKnowledge of Technical \\\\nDiagrams\\\\nEngineering\\\\nAgile Project Management\\\\nLanguages\\\\nEnglish\\\\nDutch\\\\nHobbies\\\\nPiano, Debate, TriathlonProfile\\\\nDeadline- focused Sales Engineer with six years experience in technical sales, \\\\ncontributing to the 30% growth of income for regional technology solutions \\\\nprovider over five states, producing and assisting long-term contracts with Fortune \\\\n500 clients, and growing Territory sixfold up to $350M.\\\\nEmployment History\\\\nSales Engineer, Engen Oil, Jacksonville\\\\nMay 2022 — May 2022\\\\nPrimary duty was to recognize and provide current and future customer necessities \\\\nin areas of filtration and lubrication products and services.\\\\n•Initiated Lubrication Fundamentals classes for employees and customers, \\\\nwhich provided education on basic product info, machine elements that \\\\nneed lubrication, application methods, storing lubricant, and lubricant \\\\nconservation and handling.\\\\n•Designed and applied a highly effective industrial filtration program that \\\\nproduced up to 2,000 gallons of processed oil weekly, which resulted in a \\\\nconsiderable expense saving for the customer and improved profits for the \\\\ncompany.\\\\n•Designed and applied for numerous lubrication programs, providing \\\\nadditional value-added services and improved profit margins.\\\\n•Functioned as a consultant on Best-in-Class Lubrication programs.\\\\nSales Engineer, Quest Medical, Los Angeles\\\\nJanuary 2019 — April 2021\\\\nAccountable for day-to-day program management, customer relationships, and \\\\nestimating the shaping and assembly of medical programs for critical Fortune 500 \\\\nClients: Pall Life Sciences, Baxter Healthcare, and Quest Medical.\\\\n•Designed and presented tailored technical solutions to top-3 state \\\\nautomotive dealers, driving sales from $3M to 11$M over t5 years.\\\\n•Supervised logistics and Proof of concept pilots worth up to $800,000.\\\\n•Exceeded yearly quota by 145% by actively outperforming the competition \\\\nin public tenders and providing 97.5% satisfaction support over the \\\\nmanaged Territory of current accounts.\\\\nEducation\\\\nMasters in Industrial Engineering, Harvard University, Miami\\\\nJanuary 2019 — May 2022\\'\n",
    "\n",
    "\n",
    "***\n",
    "\n",
    "Your task is to carefully read through the resume and identify key information about the candidate.\n",
    "For example, if you\\'re examining the resume of a software engineer named John Doe, your output might look like this in JSON format:\n",
    "The JSON should include the following fields:\n",
    "\n",
    "    \\\"Name\\\": \\\"John Doe\\\",\n",
    "    \\\"Summary\\\": \\\"Software Engineer with 10 years of experience in developing scalable web applications. Proficient in Java, Python, C++.\\\",\n",
    "    \\\"Work Experience\\\": \\\"Google Search, Facebook Ads, Uber\\\",\n",
    "    \\\"Years Of Experience\\\": \\\"10 years\\\",\n",
    "    \\\"Skills\\\": [\\\"Java\\\", \\\"Python\\\", \\\"C++\\\"],\n",
    "    \\\"Projects\\\": [\\\"Google Search\\\", \\\"Facebook Ads\\\", \\\"Uber\\\"],\n",
    "    \\\"Education\\\": \\\"Stanford University\\\",\n",
    "    \\\"Certifications\\\": [\\\"AWS Certified Solutions Architect - Associate\\\", \\\"Google Cloud Certified Professional Cloud Architect\\\"],\n",
    "    \\\"Awards and Achievements\\\": [\\\"Google Founders\\' Award\\\", \\\"ACM Grace Hopper Award\\\"]\n",
    "\n",
    "\n",
    "When you encounter a category for which the resume provides no information, please use None as the value.\n",
    "\n",
    "The quality of your work will be assessed based on:\n",
    "\n",
    "The completeness and accuracy of the information you extract from the resume.\n",
    "The relevance of the extracted information to the job posting.\n",
    "The correctness of the JSON format in your output.\n",
    "Now, here\\'s your question:\n",
    "\n",
    "\n",
    "When you\\'ve completed your analysis, please provide the extracted details in JSON format.\n",
    "\\\"\\\"\\\"\"\"\",\n",
    "    **parameters\n",
    ")\n",
    "print(f\"Response from Model: {response.text}\")"
   ]
  },
  {
   "cell_type": "code",
   "execution_count": null,
   "metadata": {},
   "outputs": [],
   "source": []
  }
 ],
 "metadata": {
  "kernelspec": {
   "display_name": "env",
   "language": "python",
   "name": "python3"
  },
  "language_info": {
   "codemirror_mode": {
    "name": "ipython",
    "version": 3
   },
   "file_extension": ".py",
   "mimetype": "text/x-python",
   "name": "python",
   "nbconvert_exporter": "python",
   "pygments_lexer": "ipython3",
   "version": "3.11.2"
  },
  "orig_nbformat": 4
 },
 "nbformat": 4,
 "nbformat_minor": 2
}
